{
  "cells": [
    {
      "cell_type": "markdown",
      "metadata": {
        "id": "1RyP6uHNrckT"
      },
      "source": [
        "# Transformers for Peak Detection"
      ]
    },
    {
      "cell_type": "code",
      "execution_count": 1,
      "metadata": {
        "id": "9lbtAwfhrYiF"
      },
      "outputs": [],
      "source": [
        "import os\n",
        "import numpy as np\n",
        "import pandas as pd\n",
        "import matplotlib.pyplot as plt\n",
        "\n",
        "import torch\n",
        "import torch.nn as nn\n",
        "import math\n",
        "from torch.nn import TransformerEncoder, TransformerEncoderLayer, TransformerDecoder, TransformerDecoderLayer\n",
        "from tensorflow.keras.optimizers import Adam\n",
        "\n",
        "from sklearn.metrics import accuracy_score, f1_score\n",
        "plt.style.use(\"seaborn-v0_8\")\n",
        "from sklearn.preprocessing import MinMaxScaler"
      ]
    },
    {
      "cell_type": "markdown",
      "metadata": {
        "id": "LyjblZcToeTK"
      },
      "source": [
        "## Data Preprocessing"
      ]
    },
    {
      "cell_type": "code",
      "execution_count": 2,
      "metadata": {
        "colab": {
          "base_uri": "https://localhost:8080/"
        },
        "id": "okzuEc3Xodry",
        "outputId": "b040ffb5-5668-4d5c-e5b5-61e8f707160b"
      },
      "outputs": [
        {
          "output_type": "stream",
          "name": "stdout",
          "text": [
            "\n",
            "DONE - Load and Normalize\n"
          ]
        }
      ],
      "source": [
        "\n",
        "csv_path = \"/content/DMC2_S_CP2_52.csv\"\n",
        "target = \"CURRENT|6\"\n",
        "output_path = \"/content/X_test_with_peaks.csv\"\n",
        "\n",
        "df = pd.read_csv(csv_path)\n",
        "y = df[[target]].values\n",
        "scaler_y = MinMaxScaler()\n",
        "y_scaled = scaler_y.fit_transform(y)\n",
        "df['y_scaled'] = y_scaled\n",
        "\n",
        "#print(df.head())\n",
        "#print(y)\n",
        "\n",
        "print(\"\\nDONE - Load and Normalize\")\n",
        "\n",
        "#print(df['y_scaled'].value_counts())"
      ]
    },
    {
      "cell_type": "markdown",
      "metadata": {
        "id": "WFgSMBjJtRNK"
      },
      "source": [
        "## Config"
      ]
    },
    {
      "cell_type": "code",
      "source": [
        "## D_Model [16, 32, 64]\n",
        "# Window_size [30, 60, 120]"
      ],
      "metadata": {
        "id": "W5q1t85OS3oF"
      },
      "execution_count": 3,
      "outputs": []
    },
    {
      "cell_type": "code",
      "execution_count": 4,
      "metadata": {
        "colab": {
          "base_uri": "https://localhost:8080/"
        },
        "id": "8VI9SONntUb6",
        "outputId": "0ca66836-8834-445d-916d-1437c8bcbb57"
      },
      "outputs": [
        {
          "output_type": "stream",
          "name": "stdout",
          "text": [
            "\n",
            "DONE - Config\n"
          ]
        }
      ],
      "source": [
        "# 🧠 hyperparameters & Config\n",
        "FEATS = 1                  # Input feature dimension\n",
        "DIM_FEEDFORWARD = 64       # Hidden units in FFN\n",
        "NUM_HEADS = 1              # Attention heads (must divide D_MODEL)\n",
        "NUM_ENCODER_LAYERS = 1     # Transformer encoder layers\n",
        "NUM_DECODER_LAYERS = 1     # Transformer decoder layers\n",
        "DROPOUT = 0.1              # Dropout rate\n",
        "\n",
        "D_MODEL = 16           # Model dimension (used for projecting input)\n",
        "window_size = 60\n",
        "\n",
        "batch_size = 128\n",
        "num_epochs = 50\n",
        "lr = 0.001\n",
        "\n",
        "checkpoint_dir = \"./checkpoints\"\n",
        "os.makedirs(checkpoint_dir, exist_ok=True)  # create the folder if it doesn't exist\n",
        "\n",
        "\n",
        "print(\"\\nDONE - Config\")\n"
      ]
    },
    {
      "cell_type": "markdown",
      "metadata": {
        "id": "5m11RKJi6Hp6"
      },
      "source": [
        "### Sliding Windows"
      ]
    },
    {
      "cell_type": "code",
      "execution_count": 5,
      "metadata": {
        "colab": {
          "base_uri": "https://localhost:8080/"
        },
        "id": "jQOFisaw6HOy",
        "outputId": "2ffdbdab-ec74-4085-9d81-8c207ea00a0a"
      },
      "outputs": [
        {
          "output_type": "stream",
          "name": "stdout",
          "text": [
            "\n",
            "DONE - Create Sliding Window\n"
          ]
        }
      ],
      "source": [
        "def create_windows(data, window_size):\n",
        "    return np.array([data[i:i + window_size] for i in range(len(data) - window_size)])\n",
        "\n",
        "\n",
        "X_all = create_windows(y_scaled, window_size)\n",
        "y_all = X_all.copy()  # since it's reconstruction\n",
        "\n",
        "print(\"\\nDONE - Create Sliding Window\")\n",
        "\n",
        "# Flatten each window for saving and inspection\n",
        "X_all_2d = X_all.reshape(X_all.shape[0], -1)\n",
        "X_all_df = pd.DataFrame(X_all_2d)"
      ]
    },
    {
      "cell_type": "markdown",
      "metadata": {
        "id": "MOdcOMnJ6aEQ"
      },
      "source": [
        "### Train Test Split"
      ]
    },
    {
      "cell_type": "code",
      "execution_count": 6,
      "metadata": {
        "colab": {
          "base_uri": "https://localhost:8080/"
        },
        "id": "SSkGBoFc6dTk",
        "outputId": "5ac53bc5-3bed-4ea3-89f5-937156202eba"
      },
      "outputs": [
        {
          "output_type": "stream",
          "name": "stdout",
          "text": [
            "X_train shape: (25173, 60)\n",
            "X_test shape: (16783, 60)\n",
            "\n",
            "DONE - Train-Test Split\n"
          ]
        }
      ],
      "source": [
        "from sklearn.model_selection import train_test_split\n",
        "from torch.utils.data import DataLoader, TensorDataset\n",
        "\n",
        "X_train, X_test = train_test_split(X_all_df, test_size=0.4, random_state=42)\n",
        "X_test.reset_index(drop=True, inplace=True)\n",
        "\n",
        "# Convert to torch tensor for model\n",
        "X_test_tensor = torch.tensor(X_test.values, dtype=torch.float32).unsqueeze(-1)  # [B, T, 1]\n",
        "X_train_tensor = torch.tensor(X_train.values, dtype=torch.float32).unsqueeze(-1)\n",
        "\n",
        "print(f\"X_train shape: {X_train.shape}\")\n",
        "print(f\"X_test shape: {X_test.shape}\")\n",
        "\n",
        "\n",
        "print(\"\\nDONE - Train-Test Split\")\n"
      ]
    },
    {
      "cell_type": "markdown",
      "metadata": {
        "id": "H4saUcNo7OBP"
      },
      "source": [
        "## Model Building"
      ]
    },
    {
      "cell_type": "code",
      "execution_count": 7,
      "metadata": {
        "id": "zWZpXq9tsSgs"
      },
      "outputs": [],
      "source": [
        "class PositionalEncoding(nn.Module):\n",
        "    def __init__(self, d_model, dropout=DROPOUT, max_len=500):\n",
        "        super().__init__()\n",
        "        self.dropout = nn.Dropout(p=dropout)\n",
        "\n",
        "        # Create sinusoidal positional encoding matrix\n",
        "        pe = torch.zeros(max_len, d_model)\n",
        "        pos = torch.arange(0, max_len).unsqueeze(1).float()\n",
        "        div_term = torch.exp(torch.arange(0, d_model, 2).float() * (-math.log(10000.0) / d_model))\n",
        "\n",
        "        # Apply sine to even indices, cosine to odd indices\n",
        "        pe[:, 0::2] = torch.sin(pos * div_term)\n",
        "        pe[:, 1::2] = torch.cos(pos * div_term[:(d_model // 2 + 1)])  # handles both even/odd d_model\n",
        "\n",
        "        pe = pe.unsqueeze(0)  # shape: (1, max_len, d_model)\n",
        "        self.register_buffer(\"pe\", pe)\n",
        "\n",
        "    def forward(self, x):\n",
        "        # Add positional encoding to input tensor\n",
        "        x = x + self.pe[:, :x.size(1)]\n",
        "        return self.dropout(x)\n",
        "\n",
        "\n",
        "class PeakAD_Transformer(nn.Module):\n",
        "    def __init__(self):\n",
        "        super().__init__()\n",
        "\n",
        "        # Project input features into higher dimension\n",
        "        self.input_proj = nn.Linear(FEATS, D_MODEL)\n",
        "\n",
        "        # Add positional encoding for combined input + error sequence\n",
        "        self.pos_encoder = PositionalEncoding(D_MODEL * 2, DROPOUT, window_size)\n",
        "\n",
        "        # Define encoder block\n",
        "        encoder_layer = nn.TransformerEncoderLayer(\n",
        "            d_model=D_MODEL * 2,\n",
        "            nhead=NUM_HEADS,\n",
        "            dim_feedforward=DIM_FEEDFORWARD,\n",
        "            dropout=DROPOUT,\n",
        "            batch_first=True\n",
        "        )\n",
        "        self.encoder = nn.TransformerEncoder(encoder_layer, num_layers=NUM_ENCODER_LAYERS)\n",
        "\n",
        "        # Define decoder block\n",
        "        decoder_layer = nn.TransformerDecoderLayer(\n",
        "            d_model=D_MODEL * 2,\n",
        "            nhead=NUM_HEADS,\n",
        "            dim_feedforward=DIM_FEEDFORWARD,\n",
        "            dropout=DROPOUT,\n",
        "            batch_first=True\n",
        "        )\n",
        "        self.decoder = nn.TransformerDecoder(decoder_layer, num_layers=NUM_DECODER_LAYERS)\n",
        "\n",
        "        # Output layer to project back to original feature dimension\n",
        "        self.output_layer = nn.Sequential(\n",
        "            nn.Linear(D_MODEL * 2, FEATS),\n",
        "            nn.Sigmoid()\n",
        "        )\n",
        "\n",
        "    def encode(self, src, err, tgt):\n",
        "        # Project source and error\n",
        "        src_enc = self.input_proj(src)\n",
        "        err_enc = self.input_proj(err)\n",
        "\n",
        "        # Concatenate source and error for self-conditioning\n",
        "        combined = torch.cat((src_enc, err_enc), dim=2)\n",
        "        combined = combined * math.sqrt(D_MODEL)\n",
        "\n",
        "        # Add positional encoding\n",
        "        encoded = self.pos_encoder(combined)\n",
        "\n",
        "        # Pass through transformer encoder\n",
        "        memory = self.encoder(encoded)\n",
        "\n",
        "        # Project and duplicate target for decoding\n",
        "        tgt_proj = self.input_proj(tgt)\n",
        "        tgt_combined = torch.cat((tgt_proj, tgt_proj), dim=2)\n",
        "\n",
        "        return tgt_combined, memory\n",
        "\n",
        "    def forward(self, src, tgt):\n",
        "        # Phase 1: Without anomaly signal\n",
        "        err = torch.zeros_like(src)\n",
        "        tgt1, mem1 = self.encode(src, err, tgt)\n",
        "        x1 = self.output_layer(self.decoder(tgt1, mem1))\n",
        "\n",
        "        # Phase 2: With self-conditioning using reconstruction error\n",
        "        err = (x1 - src) ** 2\n",
        "        tgt2, mem2 = self.encode(src, err, tgt)\n",
        "        x2 = self.output_layer(self.decoder(tgt2, mem2))\n",
        "\n",
        "        return x2  # Final reconstructed sequence"
      ]
    },
    {
      "cell_type": "markdown",
      "metadata": {
        "id": "-5jTk7mw67IS"
      },
      "source": [
        "## Model Training"
      ]
    },
    {
      "cell_type": "code",
      "execution_count": 8,
      "metadata": {
        "colab": {
          "base_uri": "https://localhost:8080/"
        },
        "id": "yTrN0Nu5IL2a",
        "outputId": "6160c983-0618-4c5b-fa22-1c5f171670d7"
      },
      "outputs": [
        {
          "output_type": "stream",
          "name": "stderr",
          "text": [
            "/usr/local/lib/python3.11/dist-packages/torch/nn/modules/transformer.py:385: UserWarning: enable_nested_tensor is True, but self.use_nested_tensor is False because encoder_layer.self_attn.num_heads is odd\n",
            "  warnings.warn(\n"
          ]
        },
        {
          "output_type": "stream",
          "name": "stdout",
          "text": [
            "Epoch 1/50, Loss: 0.2252\n",
            "Epoch 2/50, Loss: 0.0352\n",
            "Epoch 3/50, Loss: 0.0117\n",
            "Epoch 4/50, Loss: 0.0077\n",
            "Epoch 5/50, Loss: 0.0073\n",
            "Epoch 6/50, Loss: 0.0049\n",
            "Epoch 7/50, Loss: 0.0045\n",
            "Epoch 8/50, Loss: 0.0046\n",
            "Epoch 9/50, Loss: 0.0034\n",
            "Epoch 10/50, Loss: 0.0033\n",
            "Checkpoint saved at: ./checkpoints/checkpoint_epoch_10_Ws60_Dim16.pt\n",
            "Epoch 11/50, Loss: 0.0034\n",
            "Epoch 12/50, Loss: 0.0030\n",
            "Epoch 13/50, Loss: 0.0028\n",
            "Epoch 14/50, Loss: 0.0023\n",
            "Epoch 15/50, Loss: 0.0023\n",
            "Epoch 16/50, Loss: 0.0020\n",
            "Epoch 17/50, Loss: 0.0019\n",
            "Epoch 18/50, Loss: 0.0024\n",
            "Epoch 19/50, Loss: 0.0015\n",
            "Epoch 20/50, Loss: 0.0042\n",
            "Checkpoint saved at: ./checkpoints/checkpoint_epoch_20_Ws60_Dim16.pt\n",
            "Epoch 21/50, Loss: 0.0012\n",
            "Epoch 22/50, Loss: 0.0011\n",
            "Epoch 23/50, Loss: 0.0035\n",
            "Epoch 24/50, Loss: 0.0019\n",
            "Epoch 25/50, Loss: 0.0010\n",
            "Epoch 26/50, Loss: 0.0009\n",
            "Epoch 27/50, Loss: 0.0009\n",
            "Epoch 28/50, Loss: 0.0010\n",
            "Epoch 29/50, Loss: 0.0009\n",
            "Epoch 30/50, Loss: 0.0009\n",
            "Checkpoint saved at: ./checkpoints/checkpoint_epoch_30_Ws60_Dim16.pt\n",
            "Epoch 31/50, Loss: 0.0009\n",
            "Epoch 32/50, Loss: 0.0007\n",
            "Epoch 33/50, Loss: 0.0009\n",
            "Epoch 34/50, Loss: 0.0007\n",
            "Epoch 35/50, Loss: 0.0006\n",
            "Epoch 36/50, Loss: 0.0090\n",
            "Epoch 37/50, Loss: 0.0008\n",
            "Epoch 38/50, Loss: 0.0006\n",
            "Epoch 39/50, Loss: 0.0005\n",
            "Epoch 40/50, Loss: 0.0005\n",
            "Checkpoint saved at: ./checkpoints/checkpoint_epoch_40_Ws60_Dim16.pt\n",
            "Epoch 41/50, Loss: 0.0004\n",
            "Epoch 42/50, Loss: 0.0004\n",
            "Epoch 43/50, Loss: 0.0004\n",
            "Epoch 44/50, Loss: 0.0004\n",
            "Epoch 45/50, Loss: 0.0004\n",
            "Epoch 46/50, Loss: 0.0004\n",
            "Epoch 47/50, Loss: 0.0004\n",
            "Epoch 48/50, Loss: 0.0015\n",
            "Epoch 49/50, Loss: 0.0003\n",
            "Epoch 50/50, Loss: 0.0003\n",
            "Checkpoint saved at: ./checkpoints/checkpoint_epoch_50_Ws60_Dim16.pt\n",
            "DONE: Training complete\n"
          ]
        }
      ],
      "source": [
        "\n",
        "model = PeakAD_Transformer()\n",
        "optimizer = torch.optim.Adam(model.parameters(), lr=lr)\n",
        "criterion = nn.MSELoss()\n",
        "train_loader = DataLoader(TensorDataset(X_train_tensor, X_train_tensor), batch_size=batch_size, shuffle=True)\n",
        "\n",
        "# previous checkpoint to resume from\n",
        "start_epoch = 1  # default\n",
        "checkpoint_files = [f for f in os.listdir(checkpoint_dir) if f.startswith(\"checkpoint_epoch_\")]\n",
        "if checkpoint_files:\n",
        "    latest_checkpoint = sorted(checkpoint_files, key=lambda x: int(x.split(\"_\")[-1].split(\".\")[0]))[-1]\n",
        "    checkpoint_path = os.path.join(checkpoint_dir, latest_checkpoint)\n",
        "    checkpoint = torch.load(checkpoint_path)\n",
        "    model.load_state_dict(checkpoint['model_state_dict'])\n",
        "    optimizer.load_state_dict(checkpoint['optimizer_state_dict'])\n",
        "    start_epoch = checkpoint['epoch'] + 1\n",
        "    print(f\"🔁 Resuming training from epoch {start_epoch} (loaded {latest_checkpoint})\")\n",
        "\n",
        "# Training loop\n",
        "model.train()\n",
        "for epoch in range(start_epoch, num_epochs + 1):\n",
        "    total_loss = 0\n",
        "    for xb, yb in train_loader:\n",
        "        optimizer.zero_grad()\n",
        "        x2 = model(xb, xb)\n",
        "        loss = criterion(x2, yb)\n",
        "        loss.backward()\n",
        "        optimizer.step()\n",
        "        total_loss += loss.item()\n",
        "\n",
        "    print(f\"Epoch {epoch}/{num_epochs}, Loss: {total_loss:.4f}\")\n",
        "\n",
        "    # Save checkpoint every 50 epochs\n",
        "    if epoch % 10 == 0 or epoch == num_epochs:\n",
        "        ckpt_path = f\"checkpoint_epoch_{epoch}_Ws{window_size}_Dim{D_MODEL}.pt\"\n",
        "        checkpoint_path = os.path.join(checkpoint_dir, ckpt_path)\n",
        "        torch.save({\n",
        "            'epoch': epoch,\n",
        "            'model_state_dict': model.state_dict(),\n",
        "            'optimizer_state_dict': optimizer.state_dict(),\n",
        "        }, checkpoint_path)\n",
        "        print(f\"Checkpoint saved at: {checkpoint_path}\")\n",
        "\n",
        "print(\"DONE: Training complete\")"
      ]
    },
    {
      "cell_type": "markdown",
      "metadata": {
        "id": "bpPseOUaDVjE"
      },
      "source": [
        "## Plot RE"
      ]
    },
    {
      "cell_type": "code",
      "execution_count": 9,
      "metadata": {
        "id": "3cNwlAYmDNuJ"
      },
      "outputs": [],
      "source": [
        "def plot_reconstruction_errors_per_timestep(model, scaler_y, X_input, threshold_percentile=98):\n",
        "    model.eval()\n",
        "    with torch.no_grad():\n",
        "        x2 = model(X_input, X_input)  # [B, window, 1]\n",
        "\n",
        "        # Use only the last timestep of each reconstructed sequence\n",
        "        recon = x2[:, -1, 0].cpu().numpy()  # shape: [B]\n",
        "        true = X_input[:, -1, 0].cpu().numpy()  # shape: [B]\n",
        "\n",
        "        # Inverse transform back to original scale\n",
        "        recon_orig = scaler_y.inverse_transform(recon.reshape(-1, 1)).flatten()\n",
        "        true_orig = scaler_y.inverse_transform(true.reshape(-1, 1)).flatten()\n",
        "\n",
        "        # Compute per-timestep error\n",
        "        errors = np.abs(true_orig - recon_orig)\n",
        "\n",
        "        # Threshold for peak detection\n",
        "        threshold = np.percentile(errors, threshold_percentile)\n",
        "        peaks = [i for i, e in enumerate(errors) if e > threshold]\n",
        "\n",
        "        # Plot\n",
        "        plt.figure(figsize=(14, 6))\n",
        "        plt.plot(errors, label=\"Reconstruction Error (per timestamp)\", alpha=0.8)\n",
        "        plt.axhline(threshold, color=\"red\", linestyle=\"--\", label=f\"{threshold_percentile}th percentile\")\n",
        "        plt.scatter(peaks, [errors[i] for i in peaks], color='red', s=10, label=\"Detected Peaks\")\n",
        "\n",
        "        #clear timestamp labels\n",
        "        plt.xticks(ticks=np.arange(0, len(errors), 300), rotation=90)  # Show all timestamps (rotate for clarity)\n",
        "\n",
        "        plt.title(\"Tran-PD\")\n",
        "        plt.xlabel(\"Timestamp Index\")\n",
        "        plt.ylabel(\"Reconstruction Error\")\n",
        "        plt.legend()\n",
        "        plt.grid(True)\n",
        "        plt.tight_layout()\n",
        "\n",
        "         # Save plot directly\n",
        "        plot_filename = f\"reconsn_errors_Ws{window_size}_Dim{D_MODEL}.png\"\n",
        "        plt.savefig(plot_filename)\n",
        "        print(f\"📸 Plot saved as: {plot_filename}\")\n",
        "        plt.show()\n",
        "\n",
        "        return errors, peaks, true_orig, recon_orig, threshold"
      ]
    },
    {
      "cell_type": "code",
      "execution_count": 10,
      "metadata": {
        "colab": {
          "base_uri": "https://localhost:8080/",
          "height": 355
        },
        "id": "iFwLGGGgv3mc",
        "outputId": "34525bf7-3616-4eab-c73a-0ecb7487a661"
      },
      "outputs": [
        {
          "output_type": "stream",
          "name": "stdout",
          "text": [
            "📸 Plot saved as: reconsn_errors_Ws60_Dim16\n"
          ]
        },
        {
          "output_type": "display_data",
          "data": {
            "text/plain": [
              "<Figure size 1400x600 with 1 Axes>"
            ],
            "image/png": "[encoded data removed]"
          },
          "metadata": {}
        },
        {
          "output_type": "stream",
          "name": "stdout",
          "text": [
            "0.03241028\n",
            "\n",
            " DONE - 336 Peaks Detected in WINDOW_SIZE - 60, D-MODEL - 16 \n"
          ]
        }
      ],
      "source": [
        "errors, peaks, true_orig, recon_orig, threshold = plot_reconstruction_errors_per_timestep(model, scaler_y, X_test_tensor)\n",
        "\n",
        "### num_of_peaks\n",
        "num_of_peaks = len(peaks)\n",
        "print(threshold)\n",
        "\n",
        "print(f\"\\n DONE - {len(peaks)} Peaks Detected in WINDOW_SIZE - {window_size}, D-MODEL - {D_MODEL} \")"
      ]
    },
    {
      "cell_type": "code",
      "source": [
        "summary_path = \"/content/peak_summary.txt\"\n",
        "\n",
        "with open(summary_path, \"a\") as f:\n",
        "    f.write(f\"Number of Peaks Detected: {len(peaks)}\\n\")\n",
        "    f.write(f\"Window Size: {window_size}\\n\")\n",
        "    f.write(f\"D_MODEL: {D_MODEL}\\n\")\n",
        "    f.write(f\"Threshold: {threshold}\\n\")\n",
        "    f.write(f\"Mean RE: {np.mean(errors)} | Max RE: {np.max(errors)} | Min RE: {np.min(errors)}\")\n",
        "    f.write(\"\\n-\" * 40 + \"\\n\")\n",
        "\n",
        "\n",
        "print(f\"📄 Summary saved to: {summary_path}\")"
      ],
      "metadata": {
        "colab": {
          "base_uri": "https://localhost:8080/"
        },
        "id": "WWqneywofoBA",
        "outputId": "daf1e167-3406-4d63-b20f-7fe6f62475b5"
      },
      "execution_count": 11,
      "outputs": [
        {
          "output_type": "stream",
          "name": "stdout",
          "text": [
            "📄 Summary saved to: /content/peak_summary.txt\n"
          ]
        }
      ]
    },
    {
      "cell_type": "markdown",
      "metadata": {
        "id": "WuYBZ-JW8PH0"
      },
      "source": [
        "### Save Errors and Peaks"
      ]
    },
    {
      "cell_type": "markdown",
      "metadata": {
        "id": "XLCzU5XkrEm8"
      },
      "source": [
        "### Save Peaks Details into Dataset"
      ]
    },
    {
      "cell_type": "code",
      "execution_count": 12,
      "metadata": {
        "colab": {
          "base_uri": "https://localhost:8080/"
        },
        "id": "3D21upDk8U7T",
        "outputId": "634b9df3-8545-4c30-bbbb-77f524874a1d"
      },
      "outputs": [
        {
          "output_type": "stream",
          "name": "stdout",
          "text": [
            "Saved Peaks dataset to: /content/Peaks.csv\n"
          ]
        }
      ],
      "source": [
        "start_index = window_size\n",
        "timestamp_indices = np.arange(start_index, start_index + len(true_orig))\n",
        "\n",
        "# Create the Peaks dataset\n",
        "Peaks = pd.DataFrame({\n",
        "    'Timestamp': timestamp_indices,\n",
        "    'True_Value': true_orig,\n",
        "    'Reconstructed_Value': recon_orig,\n",
        "    'Reconstruction_Error': errors,\n",
        "    'Peak': (errors > threshold).astype(int),\n",
        "})\n",
        "\n",
        "Peaks.to_csv(f\"/content/Peaks_Ws{window_size}_Dim{D_MODEL}.csv\", index=False)\n",
        "print(\"Saved Peaks dataset to: /content/Peaks.csv\")"
      ]
    },
    {
      "cell_type": "markdown",
      "metadata": {
        "id": "wJjp-yNb3E_T"
      },
      "source": [
        "## Statistical TEST DATASET"
      ]
    },
    {
      "cell_type": "code",
      "source": [
        "#### Save error and peaks code\n",
        "\n",
        "X_test['True_Value'] = true_orig\n",
        "X_test['Reconstructed_Value'] = recon_orig\n",
        "X_test['Reconstruction_Error'] = errors\n",
        "X_test['Peak'] = (errors > threshold).astype(int)\n",
        "\n",
        "# Save\n",
        "output_path = \"/content/X_test_with_peaks.csv\"\n",
        "X_test.to_csv(output_path, index=False)\n",
        "print(f\" Saved test set with peaks to: {output_path}\")"
      ],
      "metadata": {
        "id": "0RNu9VzPh3jP"
      },
      "execution_count": null,
      "outputs": []
    },
    {
      "cell_type": "code",
      "execution_count": null,
      "metadata": {
        "id": "Tq-HqlSxCLCO"
      },
      "outputs": [],
      "source": [
        "# Initialize global lists to collect results\n",
        "win_size_list = []\n",
        "d_model_list = []\n",
        "num_peaks_list = []"
      ]
    },
    {
      "cell_type": "code",
      "execution_count": null,
      "metadata": {
        "colab": {
          "base_uri": "https://localhost:8080/",
          "height": 216
        },
        "id": "X7M1ucIh5FOS",
        "outputId": "22b628a5-caf5-4332-fb12-0adcfba47b73"
      },
      "outputs": [
        {
          "output_type": "error",
          "ename": "NameError",
          "evalue": "name 'win_size_list' is not defined",
          "traceback": [
            "\u001b[0;31m---------------------------------------------------------------------------\u001b[0m",
            "\u001b[0;31mNameError\u001b[0m                                 Traceback (most recent call last)",
            "\u001b[0;32m/tmp/ipython-input-28-2295448363.py\u001b[0m in \u001b[0;36m<cell line: 0>\u001b[0;34m()\u001b[0m\n\u001b[1;32m      2\u001b[0m \u001b[0;34m\u001b[0m\u001b[0m\n\u001b[1;32m      3\u001b[0m Statistical_test_dataset = pd.DataFrame({\n\u001b[0;32m----> 4\u001b[0;31m     \u001b[0;34m'Win_size'\u001b[0m\u001b[0;34m:\u001b[0m \u001b[0mwin_size_list\u001b[0m\u001b[0;34m,\u001b[0m\u001b[0;34m\u001b[0m\u001b[0;34m\u001b[0m\u001b[0m\n\u001b[0m\u001b[1;32m      5\u001b[0m     \u001b[0;34m'D_model'\u001b[0m\u001b[0;34m:\u001b[0m \u001b[0md_model_list\u001b[0m\u001b[0;34m,\u001b[0m\u001b[0;34m\u001b[0m\u001b[0;34m\u001b[0m\u001b[0m\n\u001b[1;32m      6\u001b[0m     \u001b[0;34m'Num_of_Peaks'\u001b[0m\u001b[0;34m:\u001b[0m \u001b[0mnum_peaks_list\u001b[0m\u001b[0;34m,\u001b[0m\u001b[0;34m\u001b[0m\u001b[0;34m\u001b[0m\u001b[0m\n",
            "\u001b[0;31mNameError\u001b[0m: name 'win_size_list' is not defined"
          ]
        }
      ],
      "source": [
        "## FInal TEST DATASET\n",
        "\n",
        "# Statistical_test_dataset = pd.DataFrame({\n",
        "#     'Win_size': win_size_list,\n",
        "#     'D_model': d_model_list,\n",
        "#     'Num_of_Peaks': num_peaks_list,\n",
        "# })\n",
        "\n",
        "Statistical_test_dataset.to_csv(\"/content/Statistical_test_dataset.csv\", index=False)\n",
        "print(\"Saved TEST dataset to: /content/Statistical_test_dataset.csv\")"
      ]
    },
    {
      "cell_type": "markdown",
      "metadata": {
        "id": "lfjBCPtb63K2"
      },
      "source": [
        "## ANOVA and Tukey's Test"
      ]
    },
    {
      "cell_type": "code",
      "execution_count": null,
      "metadata": {
        "id": "ZY9Uz8iw62Pw"
      },
      "outputs": [],
      "source": [
        "import os\n",
        "import pandas as pd\n",
        "import statsmodels.api as sm\n",
        "from statsmodels.formula.api import ols\n",
        "from statsmodels.stats.multicomp import pairwise_tukeyhsd\n",
        "\n",
        "def analyze_transformer_dataset(df, filename, output_folder=\"./\"):\n",
        "    # backticks to handle hyphen in 'D-model'\n",
        "    formula = 'Num_of_Peaks ~ C(Win_size) + C(D_model) + C(Win_size):C(D_model)'\n",
        "\n",
        "    # Fit the ANOVA model\n",
        "    model = ols(formula, data=df).fit()\n",
        "\n",
        "    # Run ANOVA\n",
        "    anova_table = sm.stats.anova_lm(model, typ=2)\n",
        "    print(\"\\n📊 ANOVA Results:\\n\", anova_table)\n",
        "\n",
        "    # Save ANOVA table\n",
        "    anova_table[\"Dataset\"] = filename\n",
        "    anova_csv = os.path.join(output_folder, f\"anova_{filename}.csv\")\n",
        "    anova_table.to_csv(anova_csv, index=True)\n",
        "    print(f\"\\n📁 Saved ANOVA results to: {anova_csv}\")\n",
        "\n",
        "    # Find significant factors (p < 0.05)\n",
        "    significant_factors = anova_table[anova_table[\"PR(>F)\"] < 0.05].index.tolist()\n",
        "    print(\"\\nSignificant Factors:\", significant_factors)\n",
        "\n",
        "    # Run Tukey’s HSD for each main factor\n",
        "    tukey_results = []\n",
        "    for factor in significant_factors:\n",
        "        if \"C(\" in factor:\n",
        "            factor_name = factor.split('(')[1].split(')')[0].strip('`')  # clean backticks if any\n",
        "            tukey_test = pairwise_tukeyhsd(df['Num_of_Peaks'], df[factor_name])\n",
        "            tukeydf = pd.DataFrame(data=tukey_test._results_table.data[1:], columns=tukey_test._results_table.data[0])\n",
        "            tukeydf[\"Dataset\"] = filename\n",
        "            tukeydf[\"Factor\"] = factor_name\n",
        "            tukey_results.append(tukeydf)\n",
        "            print(f\"\\nTukey’s HSD for {factor_name}:\\n\", tukey_test)\n",
        "\n",
        "    # Save Tukey results\n",
        "    if tukey_results:\n",
        "        tukey_results_df = pd.concat(tukey_results, ignore_index=True)\n",
        "        tukey_csv = os.path.join(output_folder, f\"tukey_{filename}.csv\")\n",
        "        tukey_results_df.to_csv(tukey_csv, index=False)\n",
        "        print(f\"\\nSaved Tukey HSD results to: {tukey_csv}\")"
      ]
    },
    {
      "cell_type": "code",
      "execution_count": null,
      "metadata": {
        "colab": {
          "base_uri": "https://localhost:8080/"
        },
        "id": "YKInpoE4LRUZ",
        "outputId": "159fce07-d9e3-4442-d6be-ae31e551369f"
      },
      "outputs": [
        {
          "name": "stdout",
          "output_type": "stream",
          "text": [
            "NaN values:\n",
            " Win_size        0\n",
            "D_model         0\n",
            "Num_of_Peaks    0\n",
            "dtype: int64\n",
            "\n",
            "Infinite values:\n",
            " Win_size        0\n",
            "D_model         0\n",
            "Num_of_Peaks    0\n",
            "dtype: int64\n",
            "Win_size  D_model\n",
            "30        8          1\n",
            "60        16         1\n",
            "dtype: int64\n"
          ]
        }
      ],
      "source": [
        "df = pd.read_csv(\"/content/Statistical_test_dataset.csv\")\n",
        "\n",
        "# Check for NaNs or infinite values\n",
        "print(\"NaN values:\\n\", df.isna().sum())\n",
        "print(\"\\nInfinite values:\\n\", (df == float('inf')).sum())\n",
        "\n",
        "print(df.groupby(['Win_size', 'D_model']).size())"
      ]
    },
    {
      "cell_type": "code",
      "execution_count": null,
      "metadata": {
        "colab": {
          "base_uri": "https://localhost:8080/",
          "height": 367
        },
        "id": "w_byFjYN62NI",
        "outputId": "6d889b8e-42fa-4704-a488-853fd5229ee1"
      },
      "outputs": [
        {
          "name": "stderr",
          "output_type": "stream",
          "text": [
            "/usr/local/lib/python3.11/dist-packages/statsmodels/regression/linear_model.py:1717: RuntimeWarning: invalid value encountered in scalar divide\n",
            "  return np.dot(wresid, wresid) / self.df_resid\n"
          ]
        },
        {
          "ename": "ValueError",
          "evalue": "array must not contain infs or NaNs",
          "output_type": "error",
          "traceback": [
            "\u001b[0;31m---------------------------------------------------------------------------\u001b[0m",
            "\u001b[0;31mValueError\u001b[0m                                Traceback (most recent call last)",
            "\u001b[0;32m/tmp/ipython-input-70-3942560792.py\u001b[0m in \u001b[0;36m<cell line: 0>\u001b[0;34m()\u001b[0m\n\u001b[1;32m      1\u001b[0m \u001b[0mdf\u001b[0m \u001b[0;34m=\u001b[0m \u001b[0mpd\u001b[0m\u001b[0;34m.\u001b[0m\u001b[0mread_csv\u001b[0m\u001b[0;34m(\u001b[0m\u001b[0;34m\"/content/Statistical_test_dataset.csv\"\u001b[0m\u001b[0;34m)\u001b[0m\u001b[0;34m\u001b[0m\u001b[0;34m\u001b[0m\u001b[0m\n\u001b[0;32m----> 2\u001b[0;31m \u001b[0manalyze_transformer_dataset\u001b[0m\u001b[0;34m(\u001b[0m\u001b[0mdf\u001b[0m\u001b[0;34m,\u001b[0m \u001b[0mfilename\u001b[0m\u001b[0;34m=\u001b[0m\u001b[0;34m\"transformer_test\"\u001b[0m\u001b[0;34m,\u001b[0m \u001b[0moutput_folder\u001b[0m\u001b[0;34m=\u001b[0m\u001b[0;34m\"/content\"\u001b[0m\u001b[0;34m)\u001b[0m\u001b[0;34m\u001b[0m\u001b[0;34m\u001b[0m\u001b[0m\n\u001b[0m",
            "\u001b[0;32m/tmp/ipython-input-69-2322711090.py\u001b[0m in \u001b[0;36manalyze_transformer_dataset\u001b[0;34m(df, filename, output_folder)\u001b[0m\n\u001b[1;32m     13\u001b[0m \u001b[0;34m\u001b[0m\u001b[0m\n\u001b[1;32m     14\u001b[0m     \u001b[0;31m# Run ANOVA\u001b[0m\u001b[0;34m\u001b[0m\u001b[0;34m\u001b[0m\u001b[0m\n\u001b[0;32m---> 15\u001b[0;31m     \u001b[0manova_table\u001b[0m \u001b[0;34m=\u001b[0m \u001b[0msm\u001b[0m\u001b[0;34m.\u001b[0m\u001b[0mstats\u001b[0m\u001b[0;34m.\u001b[0m\u001b[0manova_lm\u001b[0m\u001b[0;34m(\u001b[0m\u001b[0mmodel\u001b[0m\u001b[0;34m,\u001b[0m \u001b[0mtyp\u001b[0m\u001b[0;34m=\u001b[0m\u001b[0;36m2\u001b[0m\u001b[0;34m)\u001b[0m\u001b[0;34m\u001b[0m\u001b[0;34m\u001b[0m\u001b[0m\n\u001b[0m\u001b[1;32m     16\u001b[0m     \u001b[0mprint\u001b[0m\u001b[0;34m(\u001b[0m\u001b[0;34m\"\\n📊 ANOVA Results:\\n\"\u001b[0m\u001b[0;34m,\u001b[0m \u001b[0manova_table\u001b[0m\u001b[0;34m)\u001b[0m\u001b[0;34m\u001b[0m\u001b[0;34m\u001b[0m\u001b[0m\n\u001b[1;32m     17\u001b[0m \u001b[0;34m\u001b[0m\u001b[0m\n",
            "\u001b[0;32m/usr/local/lib/python3.11/dist-packages/statsmodels/stats/anova.py\u001b[0m in \u001b[0;36manova_lm\u001b[0;34m(*args, **kwargs)\u001b[0m\n\u001b[1;32m    351\u001b[0m     \u001b[0;32mif\u001b[0m \u001b[0mlen\u001b[0m\u001b[0;34m(\u001b[0m\u001b[0margs\u001b[0m\u001b[0;34m)\u001b[0m \u001b[0;34m==\u001b[0m \u001b[0;36m1\u001b[0m\u001b[0;34m:\u001b[0m\u001b[0;34m\u001b[0m\u001b[0;34m\u001b[0m\u001b[0m\n\u001b[1;32m    352\u001b[0m         \u001b[0mmodel\u001b[0m \u001b[0;34m=\u001b[0m \u001b[0margs\u001b[0m\u001b[0;34m[\u001b[0m\u001b[0;36m0\u001b[0m\u001b[0;34m]\u001b[0m\u001b[0;34m\u001b[0m\u001b[0;34m\u001b[0m\u001b[0m\n\u001b[0;32m--> 353\u001b[0;31m         \u001b[0;32mreturn\u001b[0m \u001b[0manova_single\u001b[0m\u001b[0;34m(\u001b[0m\u001b[0mmodel\u001b[0m\u001b[0;34m,\u001b[0m \u001b[0;34m**\u001b[0m\u001b[0mkwargs\u001b[0m\u001b[0;34m)\u001b[0m\u001b[0;34m\u001b[0m\u001b[0;34m\u001b[0m\u001b[0m\n\u001b[0m\u001b[1;32m    354\u001b[0m \u001b[0;34m\u001b[0m\u001b[0m\n\u001b[1;32m    355\u001b[0m     \u001b[0;32mif\u001b[0m \u001b[0mtyp\u001b[0m \u001b[0;32mnot\u001b[0m \u001b[0;32min\u001b[0m \u001b[0;34m[\u001b[0m\u001b[0;36m1\u001b[0m\u001b[0;34m,\u001b[0m \u001b[0;34m\"I\"\u001b[0m\u001b[0;34m]\u001b[0m\u001b[0;34m:\u001b[0m\u001b[0;34m\u001b[0m\u001b[0;34m\u001b[0m\u001b[0m\n",
            "\u001b[0;32m/usr/local/lib/python3.11/dist-packages/statsmodels/stats/anova.py\u001b[0m in \u001b[0;36manova_single\u001b[0;34m(model, **kwargs)\u001b[0m\n\u001b[1;32m     82\u001b[0m                                 n_rows, test, pr_test, robust)\n\u001b[1;32m     83\u001b[0m     \u001b[0;32melif\u001b[0m \u001b[0mtyp\u001b[0m \u001b[0;32min\u001b[0m \u001b[0;34m[\u001b[0m\u001b[0;36m2\u001b[0m\u001b[0;34m,\u001b[0m \u001b[0;34m\"II\"\u001b[0m\u001b[0;34m]\u001b[0m\u001b[0;34m:\u001b[0m\u001b[0;34m\u001b[0m\u001b[0;34m\u001b[0m\u001b[0m\n\u001b[0;32m---> 84\u001b[0;31m         return anova2_lm_single(model, design_info, n_rows, test, pr_test,\n\u001b[0m\u001b[1;32m     85\u001b[0m                                 robust)\n\u001b[1;32m     86\u001b[0m     \u001b[0;32melif\u001b[0m \u001b[0mtyp\u001b[0m \u001b[0;32min\u001b[0m \u001b[0;34m[\u001b[0m\u001b[0;36m3\u001b[0m\u001b[0;34m,\u001b[0m \u001b[0;34m\"III\"\u001b[0m\u001b[0;34m]\u001b[0m\u001b[0;34m:\u001b[0m\u001b[0;34m\u001b[0m\u001b[0;34m\u001b[0m\u001b[0m\n",
            "\u001b[0;32m/usr/local/lib/python3.11/dist-packages/statsmodels/stats/anova.py\u001b[0m in \u001b[0;36manova2_lm_single\u001b[0;34m(model, design_info, n_rows, test, pr_test, robust)\u001b[0m\n\u001b[1;32m    205\u001b[0m             \u001b[0mLVL\u001b[0m \u001b[0;34m=\u001b[0m \u001b[0mnp\u001b[0m\u001b[0;34m.\u001b[0m\u001b[0mdot\u001b[0m\u001b[0;34m(\u001b[0m\u001b[0mnp\u001b[0m\u001b[0;34m.\u001b[0m\u001b[0mdot\u001b[0m\u001b[0;34m(\u001b[0m\u001b[0mL1\u001b[0m\u001b[0;34m,\u001b[0m\u001b[0mrobust_cov\u001b[0m\u001b[0;34m)\u001b[0m\u001b[0;34m,\u001b[0m\u001b[0mL2\u001b[0m\u001b[0;34m.\u001b[0m\u001b[0mT\u001b[0m\u001b[0;34m)\u001b[0m\u001b[0;34m\u001b[0m\u001b[0;34m\u001b[0m\u001b[0m\n\u001b[1;32m    206\u001b[0m             \u001b[0;32mfrom\u001b[0m \u001b[0mscipy\u001b[0m \u001b[0;32mimport\u001b[0m \u001b[0mlinalg\u001b[0m\u001b[0;34m\u001b[0m\u001b[0;34m\u001b[0m\u001b[0m\n\u001b[0;32m--> 207\u001b[0;31m             \u001b[0morth_compl\u001b[0m\u001b[0;34m,\u001b[0m\u001b[0m_\u001b[0m \u001b[0;34m=\u001b[0m \u001b[0mlinalg\u001b[0m\u001b[0;34m.\u001b[0m\u001b[0mqr\u001b[0m\u001b[0;34m(\u001b[0m\u001b[0mLVL\u001b[0m\u001b[0;34m)\u001b[0m\u001b[0;34m\u001b[0m\u001b[0;34m\u001b[0m\u001b[0m\n\u001b[0m\u001b[1;32m    208\u001b[0m             \u001b[0mr\u001b[0m \u001b[0;34m=\u001b[0m \u001b[0mL1\u001b[0m\u001b[0;34m.\u001b[0m\u001b[0mshape\u001b[0m\u001b[0;34m[\u001b[0m\u001b[0;36m0\u001b[0m\u001b[0;34m]\u001b[0m \u001b[0;34m-\u001b[0m \u001b[0mL2\u001b[0m\u001b[0;34m.\u001b[0m\u001b[0mshape\u001b[0m\u001b[0;34m[\u001b[0m\u001b[0;36m0\u001b[0m\u001b[0;34m]\u001b[0m\u001b[0;34m\u001b[0m\u001b[0;34m\u001b[0m\u001b[0m\n\u001b[1;32m    209\u001b[0m             \u001b[0;31m# L1|2\u001b[0m\u001b[0;34m\u001b[0m\u001b[0;34m\u001b[0m\u001b[0m\n",
            "\u001b[0;32m/usr/local/lib/python3.11/dist-packages/scipy/linalg/_decomp_qr.py\u001b[0m in \u001b[0;36mqr\u001b[0;34m(a, overwrite_a, lwork, mode, pivoting, check_finite)\u001b[0m\n\u001b[1;32m    138\u001b[0m \u001b[0;34m\u001b[0m\u001b[0m\n\u001b[1;32m    139\u001b[0m     \u001b[0;32mif\u001b[0m \u001b[0mcheck_finite\u001b[0m\u001b[0;34m:\u001b[0m\u001b[0;34m\u001b[0m\u001b[0;34m\u001b[0m\u001b[0m\n\u001b[0;32m--> 140\u001b[0;31m         \u001b[0ma1\u001b[0m \u001b[0;34m=\u001b[0m \u001b[0mnp\u001b[0m\u001b[0;34m.\u001b[0m\u001b[0masarray_chkfinite\u001b[0m\u001b[0;34m(\u001b[0m\u001b[0ma\u001b[0m\u001b[0;34m)\u001b[0m\u001b[0;34m\u001b[0m\u001b[0;34m\u001b[0m\u001b[0m\n\u001b[0m\u001b[1;32m    141\u001b[0m     \u001b[0;32melse\u001b[0m\u001b[0;34m:\u001b[0m\u001b[0;34m\u001b[0m\u001b[0;34m\u001b[0m\u001b[0m\n\u001b[1;32m    142\u001b[0m         \u001b[0ma1\u001b[0m \u001b[0;34m=\u001b[0m \u001b[0mnp\u001b[0m\u001b[0;34m.\u001b[0m\u001b[0masarray\u001b[0m\u001b[0;34m(\u001b[0m\u001b[0ma\u001b[0m\u001b[0;34m)\u001b[0m\u001b[0;34m\u001b[0m\u001b[0;34m\u001b[0m\u001b[0m\n",
            "\u001b[0;32m/usr/local/lib/python3.11/dist-packages/numpy/lib/_function_base_impl.py\u001b[0m in \u001b[0;36masarray_chkfinite\u001b[0;34m(a, dtype, order)\u001b[0m\n\u001b[1;32m    647\u001b[0m     \u001b[0ma\u001b[0m \u001b[0;34m=\u001b[0m \u001b[0masarray\u001b[0m\u001b[0;34m(\u001b[0m\u001b[0ma\u001b[0m\u001b[0;34m,\u001b[0m \u001b[0mdtype\u001b[0m\u001b[0;34m=\u001b[0m\u001b[0mdtype\u001b[0m\u001b[0;34m,\u001b[0m \u001b[0morder\u001b[0m\u001b[0;34m=\u001b[0m\u001b[0morder\u001b[0m\u001b[0;34m)\u001b[0m\u001b[0;34m\u001b[0m\u001b[0;34m\u001b[0m\u001b[0m\n\u001b[1;32m    648\u001b[0m     \u001b[0;32mif\u001b[0m \u001b[0ma\u001b[0m\u001b[0;34m.\u001b[0m\u001b[0mdtype\u001b[0m\u001b[0;34m.\u001b[0m\u001b[0mchar\u001b[0m \u001b[0;32min\u001b[0m \u001b[0mtypecodes\u001b[0m\u001b[0;34m[\u001b[0m\u001b[0;34m'AllFloat'\u001b[0m\u001b[0;34m]\u001b[0m \u001b[0;32mand\u001b[0m \u001b[0;32mnot\u001b[0m \u001b[0mnp\u001b[0m\u001b[0;34m.\u001b[0m\u001b[0misfinite\u001b[0m\u001b[0;34m(\u001b[0m\u001b[0ma\u001b[0m\u001b[0;34m)\u001b[0m\u001b[0;34m.\u001b[0m\u001b[0mall\u001b[0m\u001b[0;34m(\u001b[0m\u001b[0;34m)\u001b[0m\u001b[0;34m:\u001b[0m\u001b[0;34m\u001b[0m\u001b[0;34m\u001b[0m\u001b[0m\n\u001b[0;32m--> 649\u001b[0;31m         raise ValueError(\n\u001b[0m\u001b[1;32m    650\u001b[0m             \"array must not contain infs or NaNs\")\n\u001b[1;32m    651\u001b[0m     \u001b[0;32mreturn\u001b[0m \u001b[0ma\u001b[0m\u001b[0;34m\u001b[0m\u001b[0;34m\u001b[0m\u001b[0m\n",
            "\u001b[0;31mValueError\u001b[0m: array must not contain infs or NaNs"
          ]
        }
      ],
      "source": [
        "df = pd.read_csv(\"/content/Statistical_test_dataset.csv\")\n",
        "analyze_transformer_dataset(df, filename=\"transformer_test\", output_folder=\"/content\")"
      ]
    },
    {
      "cell_type": "code",
      "execution_count": null,
      "metadata": {
        "id": "h9jGWIsJ62Kd"
      },
      "outputs": [],
      "source": []
    },
    {
      "cell_type": "code",
      "execution_count": null,
      "metadata": {
        "id": "w2KmSmqI62Hz"
      },
      "outputs": [],
      "source": []
    },
    {
      "cell_type": "code",
      "execution_count": null,
      "metadata": {
        "id": "8XpWFYX862FR"
      },
      "outputs": [],
      "source": []
    },
    {
      "cell_type": "code",
      "execution_count": null,
      "metadata": {
        "id": "AuYuhX4362Cp"
      },
      "outputs": [],
      "source": []
    },
    {
      "cell_type": "code",
      "execution_count": null,
      "metadata": {
        "id": "v9Y6TOq561_-"
      },
      "outputs": [],
      "source": []
    },
    {
      "cell_type": "code",
      "execution_count": null,
      "metadata": {
        "id": "BQB9sA-P619Y"
      },
      "outputs": [],
      "source": []
    },
    {
      "cell_type": "code",
      "execution_count": null,
      "metadata": {
        "id": "FhDoQVhg616o"
      },
      "outputs": [],
      "source": []
    },
    {
      "cell_type": "code",
      "execution_count": null,
      "metadata": {
        "id": "HaEDLaYj6136"
      },
      "outputs": [],
      "source": []
    },
    {
      "cell_type": "code",
      "execution_count": null,
      "metadata": {
        "id": "E_keIv2X611N"
      },
      "outputs": [],
      "source": []
    },
    {
      "cell_type": "code",
      "execution_count": null,
      "metadata": {
        "id": "O1JvbHhj61ya"
      },
      "outputs": [],
      "source": []
    },
    {
      "cell_type": "code",
      "execution_count": null,
      "metadata": {
        "id": "tUfqR9Eo61v5"
      },
      "outputs": [],
      "source": []
    },
    {
      "cell_type": "code",
      "execution_count": null,
      "metadata": {
        "id": "vxf0IKXr61tH"
      },
      "outputs": [],
      "source": []
    },
    {
      "cell_type": "code",
      "execution_count": null,
      "metadata": {
        "id": "xy_eIxT361ql"
      },
      "outputs": [],
      "source": []
    },
    {
      "cell_type": "code",
      "execution_count": null,
      "metadata": {
        "id": "OaDxKpdY61nv"
      },
      "outputs": [],
      "source": []
    },
    {
      "cell_type": "markdown",
      "metadata": {
        "id": "uM2gqkwKsQ_w"
      },
      "source": [
        "### Interactive Plot"
      ]
    },
    {
      "cell_type": "code",
      "execution_count": null,
      "metadata": {
        "colab": {
          "base_uri": "https://localhost:8080/",
          "height": 542
        },
        "id": "JnvYSGvyPEnZ",
        "outputId": "b12b94bf-0ca5-4cc1-c9c3-3788a7fe4240"
      },
      "outputs": [
        {
          "data": {
            "text/html": [
              "<html>\n",
              "<head><meta charset=\"utf-8\" /></head>\n",
              "<body>\n",
              "    <div>            <script src=\"https://cdnjs.cloudflare.com/ajax/libs/mathjax/2.7.5/MathJax.js?config=TeX-AMS-MML_SVG\"></script><script type=\"text/javascript\">if (window.MathJax && window.MathJax.Hub && window.MathJax.Hub.Config) {window.MathJax.Hub.Config({SVG: {font: \"STIX-Web\"}});}</script>                <script type=\"text/javascript\">window.PlotlyConfig = {MathJaxConfig: 'local'};</script>\n",
              "        <script charset=\"utf-8\" src=\"https://cdn.plot.ly/plotly-2.35.2.min.js\"></script>                <div id=\"6b2b19c7-5800-40b9-9940-28fbc2fb6d02\" class=\"plotly-graph-div\" style=\"height:525px; width:100%;\"></div>            <script type=\"text/javascript\">                                    window.PLOTLYENV=window.PLOTLYENV || {};                                    if (document.getElementById(\"6b2b19c7-5800-40b9-9940-28fbc2fb6d02\")) {                    Plotly.newPlot(                        \"6b2b19c7-5800-40b9-9940-28fbc2fb6d02\",                        [{\"line\":{\"color\":\"blue\"},\"mode\":\"lines\",\"name\":\"Reconstruction Error\",\"x\":[30,31,32,33,34,35,36,37,38,39,40,41,42,43,44,45,46,47,48,49,50,51,52,53,54,55,56,57,58,59,60,61,62,63,64,65,66,67,68,69,70,71,72,73,74,75,76,77,78,79,80,81,82,83,84,85,86,87,88,89,90,91,92,93,94,95,96,97,98,99,100,101,102,103,104,105,106,107,108,109,110,111,112,113,114,115,116,117,118,119,120,121,122,123,124,125,126,127,128,129,130,131,132,133,134,135,136,137,138,139,140,141,142,143,144,145,146,147,148,149,150,151,152,153,154,155,156,157,158,159,160,161,162,163,164,165,166,167,168,169,170,171,172,173,174,175,176,177,178,179,180,181,182,183,184,185,186,187,188,189,190,191,192,193,194,195,196,197,198,199,200,201,202,203,204,205,206,207,208,209,210,211,212,213,214,215,216,217,218,219,220,221,222,223,224,225,226,227,228,229,230,231,232,233,234,235,236,237,238,239,240,241,242,243,244,245,246,247,248,249,250,251,252,253,254,255,256,257,258,259,260,261,262,263,264,265,266,267,268,269,270,271,272,273,274,275,276,277,278,279,280,281,282,283,284,285,286,287,288,289,290,291,292,293,294,295,296,297,298,299,300,301,302,303,304,305,306,307,308,309,310,311,312,313,314,315,316,317,318,319,320,321,322,323,324,325,326,327,328,329,330,331,332,333,334,335,336,337,338,339,340,341,342,343,344,345,346,347,348,349,350,351,352,353,354,355,356,357,358,359,360,361,362,363,364,365,366,367,368,369,370,371,372,373,374,375,376,377,378,379,380,381,382,383,384,385,386,387,388,389,390,391,392,393,394,395,396,397,398,399,400,401,402,403,404,405,406,407,408,409,410,411,412,413,414,415,416,417,418,419,420,421,422,423,424,425,426,427,428,429,430,431,432,433,434,435,436,437,438,439,440,441,442,443,444,445,446,447,448,449,450,451,452,453,454,455,456,457,458,459,460,461,462,463,464,465,466,467,468,469,470,471,472,473,474,475,476,477,478,479,480,481,482,483,484,485,486,487,488,489,490,491,492,493,494,495,496,497,498,499,500,501,502,503,504,505,506,507,508,509,510,511,512,513,514,515,516,517,518,519,520,521,522,523,524,525,526,527,528,529,530,531,532,533,534,535,536,537,538,539,540,541,542,543,544,545,546,547,548,549,550,551,552,553,554,555,556,557,558,559,560,561,562,563,564,565,566,567,568,569,570,571,572,573,574,575,576,577,578,579,580,581,582,583,584,585,586,587,588,589,590,591,592,593,594,595,596,597,598,599,600,601,602,603,604,605,606,607,608,609,610,611,612,613,614,615,616,617,618,619,620,621,622,623,624,625,626,627,628,629,630,631,632,633,634,635,636,637,638,639,640,641,642,643,644,645,646,647,648,649,650,651,652,653,654,655,656,657,658,659,660,661,662,663,664,665,666,667,668,669,670,671,672,673,674,675,676,677,678,679,680,681,682,683,684,685,686,687,688,689,690,691,692,693,694,695,696,697,698,699,700,701,702,703,704,705,706,707,708,709,710,711,712,713,714,715,716,717,718,719,720,721,722,723,724,725,726,727,728,729,730,731,732,733,734,735,736,737,738,739,740,741,742,743,744,745,746,747,748,749,750,751,752,753,754,755,756,757,758,759,760,761,762,763,764,765,766,767,768,769,770,771,772,773,774,775,776,777,778,779,780,781,782,783,784,785,786,787,788,789,790,791,792,793,794,795,796,797,798,799,800,801,802,803,804,805,806,807,808,809,810,811,812,813,814,815,816,817,818,819,820,821,822,823,824,825,826,827,828,829,830,831,832,833,834,835,836,837,838,839,840,841,842,843,844,845,846,847,848,849,850,851,852,853,854,855,856,857,858,859,860,861,862,863,864,865,866,867,868,869,870,871,872,873,874,875,876,877,878,879,880,881,882,883,884,885,886,887,888,889,890,891,892,893,894,895,896,897,898,899,900,901,902,903,904,905,906,907,908,909,910,911,912,913,914,915,916,917,918,919,920,921,922,923,924,925,926,927,928,929,930,931,932,933,934,935,936,937,938,939,940,941,942,943,944,945,946,947,948,949,950,951,952,953,954,955,956,957,958,959,960,961,962,963,964,965,966,967,968,969,970,971,972,973,974,975,976,977,978,979,980,981,982,983,984,985,986,987,988,989,990,991,992,993,994,995,996,997,998,999,1000,1001,1002,1003,1004,1005,1006,1007,1008,1009,1010,1011,1012,1013,1014,1015,1016,1017,1018,1019,1020,1021,1022,1023,1024,1025,1026,1027,1028,1029,1030,1031,1032,1033,1034,1035,1036,1037,1038,1039,1040,1041,1042,1043,1044,1045,1046,1047,1048,1049,1050,1051,1052,1053,1054,1055,1056,1057,1058,1059,1060,1061,1062,1063,1064,1065,1066,1067,1068,1069,1070,1071,1072,1073,1074,1075,1076,1077,1078,1079,1080,1081,1082,1083,1084,1085,1086,1087,1088,1089,1090,1091,1092,1093,1094,1095,1096,1097,1098,1099,1100,1101,1102,1103,1104,1105,1106,1107,1108,1109,1110,1111,1112,1113,1114,1115,1116,1117,1118,1119,1120,1121,1122,1123,1124,1125,1126,1127,1128,1129,1130,1131,1132,1133,1134,1135,1136,1137,1138,1139,1140,1141,1142,1143,1144,1145,1146,1147,1148,1149,1150,1151,1152,1153,1154,1155,1156,1157,1158,1159,1160,1161,1162,1163,1164,1165,1166,1167,1168,1169,1170,1171,1172,1173,1174,1175,1176,1177,1178,1179,1180,1181,1182,1183,1184,1185,1186,1187,1188,1189,1190,1191,1192,1193,1194,1195,1196,1197,1198,1199,1200,1201,1202,1203,1204,1205,1206,1207,1208,1209,1210,1211,1212,1213,1214,1215,1216,1217,1218,1219,1220,1221,1222,1223,1224,1225,1226,1227,1228,1229,1230,1231,1232,1233,1234,1235,1236,1237,1238,1239,1240,1241,1242,1243,1244,1245,1246,1247,1248,1249,1250,1251,1252,1253,1254,1255,1256,1257,1258,1259,1260,1261,1262,1263,1264,1265,1266,1267,1268,1269,1270,1271,1272,1273,1274,1275,1276,1277,1278,1279,1280,1281,1282,1283,1284,1285,1286,1287,1288,1289,1290,1291,1292,1293,1294,1295,1296,1297,1298,1299,1300,1301,1302,1303,1304,1305,1306,1307,1308,1309,1310,1311,1312,1313,1314,1315,1316,1317,1318,1319,1320,1321,1322,1323,1324,1325,1326,1327,1328,1329,1330,1331,1332,1333,1334,1335,1336,1337,1338,1339,1340,1341,1342,1343,1344,1345,1346,1347,1348,1349,1350,1351,1352,1353,1354,1355,1356,1357,1358,1359,1360,1361,1362,1363,1364,1365,1366,1367,1368,1369,1370,1371,1372,1373,1374,1375,1376,1377,1378,1379,1380,1381,1382,1383,1384,1385,1386,1387,1388,1389,1390,1391,1392,1393,1394,1395,1396,1397,1398,1399,1400,1401,1402,1403,1404,1405,1406,1407,1408,1409,1410,1411,1412,1413,1414,1415,1416,1417,1418,1419,1420,1421,1422,1423,1424,1425,1426,1427,1428,1429,1430,1431,1432,1433,1434,1435,1436,1437,1438,1439,1440,1441,1442,1443,1444,1445,1446,1447,1448,1449,1450,1451,1452,1453,1454,1455,1456,1457,1458,1459,1460,1461,1462,1463,1464,1465,1466,1467,1468,1469,1470,1471,1472,1473,1474,1475,1476,1477,1478,1479,1480,1481,1482,1483,1484,1485,1486,1487,1488,1489,1490,1491,1492,1493,1494,1495,1496,1497,1498,1499,1500,1501,1502,1503,1504,1505,1506,1507,1508,1509,1510,1511,1512,1513,1514,1515,1516,1517,1518,1519,1520,1521,1522,1523,1524,1525,1526,1527,1528,1529,1530,1531,1532,1533,1534,1535,1536,1537,1538,1539,1540,1541,1542,1543,1544,1545,1546,1547,1548,1549,1550,1551,1552,1553,1554,1555,1556,1557,1558,1559,1560,1561,1562,1563,1564,1565,1566,1567,1568,1569,1570,1571,1572,1573,1574,1575,1576,1577,1578,1579,1580,1581,1582,1583,1584,1585,1586,1587,1588,1589,1590,1591,1592,1593,1594,1595,1596,1597,1598,1599,1600,1601,1602,1603,1604,1605,1606,1607,1608,1609,1610,1611,1612,1613,1614,1615,1616,1617,1618,1619,1620,1621,1622,1623,1624,1625,1626,1627,1628,1629,1630,1631,1632,1633,1634,1635,1636,1637,1638,1639,1640,1641,1642,1643,1644,1645,1646,1647,1648,1649,1650,1651,1652,1653,1654,1655,1656,1657,1658,1659,1660,1661,1662,1663,1664,1665,1666,1667,1668,1669,1670,1671,1672,1673,1674,1675,1676,1677,1678,1679,1680,1681,1682,1683,1684,1685,1686,1687,1688,1689,1690,1691,1692,1693,1694,1695,1696,1697,1698,1699,1700,1701,1702,1703,1704],\"y\":[0.00042510033,0.006461203,0.0034239292,0.0046942234,0.028106213,0.0071536303,0.019588947,0.017850637,0.034789212,0.016484976,0.003978014,0.025844779,0.0032474995,0.002211094,0.0038013458,0.005558729,0.009541273,0.012435198,0.024937391,0.17780876,0.011656761,0.0030944347,0.02461271,0.0016283989,0.10452522,0.003194809,0.023633718,0.0022301674,0.011083841,0.009694099,0.0048422813,0.06331302,0.017573595,0.0048184395,0.012196541,0.0143454075,0.022669077,0.011647463,0.001442194,0.011699796,0.027243972,0.023160934,0.00015759468,0.058303535,0.00843358,0.02542448,0.0025835037,0.04147008,0.0008690357,0.00855279,0.011055231,0.009340763,0.001480341,0.0019769669,0.03987509,0.014321566,0.0042357445,0.016542196,0.011279583,0.007029414,0.0036053658,0.0037439466,0.00073063374,0.017191648,0.008395433,0.012860298,0.00803709,0.03364788,0.0038204193,0.014020741,0.009135485,0.019760847,0.0045747757,0.0016522408,0.010219336,0.014087558,0.016914725,0.1965828,0.01479435,0.008299828,0.033514142,0.022334814,0.009651184,0.0076646805,0.008423924,0.006895721,0.0014613271,0.015725613,0.00018620491,0.0011510849,0.013953924,0.30283642,0.027096033,0.0034432411,0.007817268,0.034364223,0.008700907,0.0021488667,0.003199339,0.0030276775,0.018151522,0.030281186,0.00040590763,0.00033426285,0.045882605,0.010462999,0.020668179,0.009173632,0.015166998,0.00019109249,0.012292147,0.043007776,0.014799118,0.0017430782,0.005711317,0.014660597,0.0145459175,0.0014994144,0.027009964,0.0023112297,0.011623621,0.005792618,0.07631183,0.0029850006,0.0071442127,0.003968358,0.011389494,0.004976034,0.012210846,0.027033925,0.013433218,0.11042774,0.0079844,0.003032446,0.024240017,0.06780195,0.016523123,0.0037248135,0.16360718,0.014937639,0.020811558,0.011527896,0.01949346,0.016776323,0.008977652,0.0036149025,0.013428569,0.017654896,0.004340887,0.0040113926,0.017712176,0.03275487,0.046813846,0.3349743,0.0052671432,0.01265496,0.012320638,0.014522314,0.004976034,0.00721097,0.009589195,0.019646227,0.0178411,0.0022730827,0.0063273907,0.00012892485,0.046269417,0.012965322,0.00041532516,0.031026125,0.011785746,0.025520049,0.020276666,0.012974739,0.027745485,0.026503801,0.050662816,0.009589076,0.025013685,0.00012421608,0.028251613,0.03791237,0.00043934584,0.0075547695,0.005954981,0.027005255,0.009173632,1.7711143,0.017640544,0.056961656,0.012282491,0.006017208,0.014268994,0.012569189,0.0076265335,0.009598732,0.005797386,0.0008548498,0.015582323,0.00641346,0.009651184,0.0031661987,0.016016722,0.0073447227,0.0033476353,0.0002387762,0.015639663,0.012984455,0.014273822,0.0152003765,0.012578547,0.008767843,0.04622644,0.016795397,0.003963709,0.0016809702,0.015066624,0.034722358,0.0022013187,0.0036007166,0.006031394,0.016451478,0.013748527,0.005754411,0.0068097115,0.0049664974,0.004861355,0.012349367,0.003395319,0.0077648163,0.021976471,0.001232028,0.011465907,0.0033140182,0.0018622875,0.0070295334,0.013070345,0.012994051,0.0050237775,0.0060646534,0.0054056644,0.14545631,0.005133629,0.011079073,0.0026550293,0.0006351471,0.005061984,0.013853669,0.008586168,0.010061979,0.026264906,0.018987238,0.006518364,0.008963585,0.0056016445,0.007822275,0.005061984,0.0012369156,0.0018815398,0.0050811768,0.026766444,0.0001385212,0.06497489,0.019397974,0.053752556,0.0045654774,0.021389246,0.049999118,0.0033810139,0.016126752,0.012115359,0.027263165,0.04252068,0.011079073,0.015415192,0.027100727,0.008662701,0.0024403334,0.010883331,0.010811806,0.014932752,0.10149759,0.0060218573,0.0051813126,0.010205269,0.009909153,0.033676624,0.04865241,0.011890888,0.0004823208,0.0063943267,0.009116411,0.09047106,0.024531603,0.0090065,0.008022785,0.007607341,0.007129669,0.009493589,0.0034239888,0.008070469,0.00011461973,0.07957351,0.006203294,0.002903521,0.010291219,0.013438106,0.0021681786,0.012669265,0.012077332,0.0047945976,0.015042663,0.00016713142,0.006375313,0.005596876,0.01328063,0.0033092499,0.013457179,0.04221505,0.000859499,0.013375998,0.010697007,0.000859499,0.01274097,0.018084645,0.046298087,0.010921478,0.026628017,0.0084142685,0.05138393,0.003615141,0.04198587,0.018079877,0.017406583,0.0059645176,0.0011556745,0.0025501251,0.0017621517,0.0078651905,0.0007354021,0.00078320503,0.00741148,0.0050764084,0.016542196,0.018729448,0.010782957,0.0041930676,0.002998948,0.008825064,0.008901477,0.022420764,0.0000333786,0.04795515,0.0052912235,0.00541538,0.0062510967,0.01644206,0.0107114315,0.009694159,0.010443926,0.004192829,0.0130417785,0.007516384,0.0016093254,0.034330785,0.0050621033,0.0047183037,0.079497054,0.02742064,0.013471603,0.0063130856,0.0062892437,0.007831812,0.053031445,0.007387638,0.0066666603,0.022014862,0.032645106,0.007874727,0.0037677288,0.0068432093,0.04756838,0.043480515,0.12144953,0.014398098,0.017506838,0.007602453,0.0034575462,0.009770632,0.014030457,0.04464098,0.01339519,0.011780977,0.006929159,0.020773172,0.017989159,0.0008788109,0.0023686886,0.005510807,0.011188984,0.008734345,0.0021822453,0.008357048,0.0039779544,0.0072586536,0.016198397,0.038093865,0.01940751,0.00036764145,0.007473588,0.026976585,0.009097338,0.013146818,0.047334343,0.0056302547,0.03254938,0.0019102097,0.02770257,0.013982534,0.013734102,0.6430435,0.004426837,0.014703512,0.02368617,0.0062463284,0.0053913593,0.007826924,0.012206078,0.13657188,0.004001856,0.010023713,0.0072540045,0.010706663,0.00835228,0.009106815,0.006886244,0.032487392,0.016236544,0.0076311827,0.007946372,0.0017287731,0.015654087,0.086664915,0.026699662,0.018906057,0.0060601234,0.0027554631,0.017998695,0.037516,0.013748407,0.003868103,0.0076885223,0.005754471,0.00723958,0.0139347315,0.009441078,0.009230971,0.012592912,0.008041859,0.033437848,0.0081756115,0.0004298687,0.009302497,0.0012893677,0.0071439743,0.014073372,0.018834472,0.0026123524,0.012502134,0.0002579689,0.028141737,0.0019483566,0.016609192,0.046250284,0.0013324022,0.010883331,0.002191782,0.0090065,0.0015711784,0.00489974,0.009417057,0.0020295978,0.03685218,0.006279707,0.018738985,0.0050144196,0.0032424927,0.038719416,0.013204157,0.027110338,0.017712355,0.004794359,0.02092123,0.30216026,0.0024641156,0.040452957,0.002024889,0.01840949,0.026599288,0.005386591,0.005420089,0.012191772,0.0009789467,0.007889032,0.009670258,0.012903333,0.05013275,0.0084860325,0.018805742,0.004727602,0.013156414,0.0037915707,0.021551609,0.0057448745,0.009369373,0.025348127,0.032673717,0.006341696,0.008700848,0.04050541,0.01881051,0.00196743,0.0042071342,0.010276794,0.017774224,0.0068050027,0.0023782253,0.014154434,0.0079033375,0.000052530042,0.013242483,0.06111154,0.020887852,0.0051527023,0.030285835,0.00052052736,0.0500803,0.0071823,0.014460087,0.007998705,0.014125802,0.0041451454,0.0055633783,0.0061364174,0.007850885,0.009512663,0.0045462847,0.014436245,0.0040256977,0.016943455,0.004727602,0.04327047,0.011991143,0.028762579,0.026327133,0.027435303,0.0063608885,0.0023925304,0.016050339,0.038953412,0.02861932,0.0036340952,0.004823208,0.013867974,0.0068240166,0.00086450577,0.0064802766,0.05836565,0.04790747,0.07561946,0.034646034,0.061288238,0.007588148,0.0017669201,0.004030466,0.0040209293,0.0023448467,0.000047683716,0.0044174194,0.022029161,0.0013990402,0.008395258,0.004001856,0.021809459,0.015224218,0.036388993,0.009861231,0.008662701,0.025944948,0.0061650276,0.014789581,0.0030705929,0.0025787354,0.010224223,0.0015329123,0.0039541125,0.021403603,0.016121984,0.002411604,0.010907173,0.0028891563,0.001332283,0.0,0.0059216022,0.010229051,0.0105012655,0.007893801,0.012482882,0.018987179,0.00018143654,0.009823084,0.015692115,0.0053007603,0.018898964,0.007048607,0.006656885,0.0001335144,0.0016666651,0.0054296255,0.01544857,0.005806923,0.0025931,0.051575005,0.013447762,0.10979736,0.00057315826,0.041228294,0.036450982,0.0053915977,0.024182796,0.013185024,0.009355068,0.2721901,0.010138273,0.012836456,0.011890888,0.01268363,0.0012702942,0.0015900135,0.0097180605,0.013610065,0.0017669201,0.0077935457,0.0868274,0.008481264,0.00430274,0.016862154,0.007521391,0.03334701,0.0037629604,0.025295615,0.036661267,0.048690617,0.006633103,0.26452637,0.0064373016,0.01667118,0.0071344376,0.038203657,0.0025453568,0.02243033,0.0022110343,0.023977637,0.025013851,0.07860882,0.0074687004,0.004909277,0.004001856,0.0021107197,0.0015282631,0.053494688,0.018347263,0.0033905506,0.0038011074,0.019383585,0.0022158623,0.004976034,0.0042881966,0.0109882355,0.0034239292,0.0023924708,0.0027461052,0.021857262,0.004770756,0.013495445,0.0109694,0.020372033,0.004866123,1.4450989,0.0752421,0.0014756322,0.0068336725,0.010109663,0.018490553,0.016833425,0.016952872,0.001294136,0.0036818981,0.010152578,0.002502203,0.013385534,0.018118143,0.020458043,0.0068623424,0.003954053,0.019832477,0.0106444955,0.002211094,0.00635612,0.0062463284,0.005635023,0.004722953,0.00036776066,0.008677006,0.040089965,0.012358904,0.017139137,0.024708211,0.0017094612,0.0024306774,0.024173379,0.0017237663,0.009899378,0.00029587746,0.0032615662,0.0046081543,0.0439772,0.08421998,0.0016283989,0.00467515,0.013180256,0.018672109,0.009593844,0.0048805475,0.010558367,0.0036962032,0.0010077953,0.0009074211,0.009756267,0.022678614,0.029856168,0.00934577,0.008696079,0.0010840893,0.00980401,0.013672113,0.0038108826,0.7534523,0.011021733,0.02497089,0.02184105,0.010372281,0.013399959,0.013504982,0.026752234,0.021771312,0.012650192,0.0103389025,0.0048089027,0.005959749,0.020228863,0.008027554,0.007473469,0.0005776882,0.0024545193,0.008106232,0.0076408386,0.023075022,0.0045414567,0.015520334,0.033982158,0.0073492527,0.005448818,0.011566162,0.0054297447,0.008127689,0.0042979717,0.018929958,0.0068957806,0.0016188622,0.018757999,0.020668149,0.018151522,0.017917514,0.04593513,0.01137495,0.015558481,0.008753538,0.0044648647,0.043824434,0.00010514259,0.058117326,0.00026744604,0.007721901,0.0021440983,0.0096035,0.025386333,0.008892059,0.004450798,0.0060887337,0.002698183,0.00021016598,0.050118446,0.016828775,0.0020391345,0.0008548498,0.019647598,0.0019915104,0.0113322735,0.02160418,0.0074926615,0.0087867975,0.02868618,0.014923312,0.00567317,0.042611413,0.019312143,0.0057353973,0.056254894,0.01524806,0.0038633347,0.009402871,0.00894922,0.013299584,0.006504059,0.036923885,0.009135485,2.3698196,0.02166146,0.0009455085,0.0011126995,0.0056302547,0.014973164,0.0034288168,0.0025023222,0.04434967,0.010415196,0.020758986,0.039855976,0.01664257,0.012306333,0.013352156,0.0021155477,0.00006198883,0.01014781,0.00021004677,0.35834503,0.03520465,0.0019292831,0.0019102097,0.0017573833,0.04226762,0.013877511,0.018232703,0.0021250248,0.011026621,0.014331102,0.0016999245,0.00980401,0.03144639,0.012358904,0.0111602545,0.00974679,0.006891012,0.03614068,0.009474516,0.011728525,0.0053150654,0.00780797,0.0073924065,0.0035624504,0.04511851,0.076173306,0.016403675,0.0039589405,0.0040017962,0.0014947057,0.006938696,0.018762827,0.019627094,0.0069577694,0.07872819,0.036355495,0.0040305257,0.0018291473,0.02311778,0.039039373,0.005979061,0.036790133,0.004326582,0.037716508,0.029230576,0.027869701,0.0022874475,0.005558729,0.008696139,0.006604433,0.011537313,0.04095906,0.02750969,0.02117443,0.0033810735,0.0076310635,0.0023827553,0.010644674,0.02471304,0.0071439743,0.023008108,0.0022922158,0.0730741,0.02998513,0.0070055723,0.0066570044,0.019999623,0.008256674,0.002077341,0.0054631233,0.014951944,0.16542196,0.004794359,0.0023448467,0.0067094564,0.008829832,0.00262177,0.0019388199,0.006938696,0.000019073486,0.0148181915,0.006719053,0.008543313,0.0073446035,0.035075746,0.002860546,0.0019197464,0.018901289,0.0054631233,0.0073064566,0.012860309,0.004221678,0.00558728,0.0021631718,0.0043411255,0.02405405,0.0042692423,0.0041212216,0.0009741783,0.0052433014,0.042549312,0.0013754368,0.02097857,0.01786971,0.007311225,0.0109500885,0.010195613,0.012277722,0.018805742,0.0010697842,0.028829455,0.01348114,0.065681696,0.00074493885,0.0038011074,0.013294816,0.018777132,0.34591103,0.017163038,0.012100995,0.046126127,0.003467083,0.012440085,0.004627466,0.0028939247,0.036494017,0.0103724,0.0041594505,0.008543491,0.035185575,0.00035834312,0.03178072,0.031508446,0.008099198,0.00083088875,0.002989471,0.0029895306,0.0065089464,0.0073589683,0.006236732,0.020606041,0.025500946,0.012984514,0.048996203,0.004512787,0.008844137,0.03320376,0.018342495,0.0006351471,0.019789457,0.01151371,0.013079882,0.039032936,0.0012321472,0.017239451,0.011609137,0.0110170245,0.007101059,1.0064125,0.0251714,0.004885316,0.051116504,0.005085945,0.03873372,0.063757144,0.0032615662,0.0066809654,0.013433337,0.000019073486,0.000028669834,0.011246204,0.018108547,0.010840297,0.010525107,0.0043218136,0.06648874,0.02556312,0.0018861294,0.003237784,0.0023686886,0.0030133724,0.047377348,0.022330046,0.016609073,0.015725493,0.009531975,0.0023925304,0.004297912,0.05027604,0.013562322,0.0019292831,0.012034178,0.0010268688,0.008681774,0.002144158,0.0049569607,0.012884259,0.00030565262,0.0036962032,0.00007176399,0.0115279555,0.0127123,0.01020515,0.024230659,0.017645359,0.009335995,0.007187128,0.006031513,0.006886244,0.012870073,0.014025569,1.2568779,0.00797987,0.005334139,0.026565865,0.0006685257,0.049430773,0.009995103,0.003084898,0.048093617,0.0053293705,0.0026074648,0.011413336,0.011704683,0.0018767715,0.0078603625,0.015357852,0.057682753,0.005038142,0.0006685257,0.0106396675,0.019813538,0.015090466,0.0022015572,0.011590004,0.00037252903,0.0013227463,0.012019873,0.012731314,0.040601015,0.014140129,0.01841414,0.00018143654,0.044044137,0.007721901,0.006031513,0.00011944771,0.0031803846,0.03557229,0.0013084412,0.007597804,0.01861453,0.003008604,0.09178431,0.0039732456,0.016437054,0.043031693,0.007268429,0.031709045,0.003758192,0.0028796196,0.0034191608,0.0052292347,0.001972437,0.02999466,0.05253958,0.03588283,0.050199628,0.015606165,0.00011467934,0.012034178,0.016804934,0.01037693,0.012841165,0.0067715645,0.021102786,0.0063130856,0.005926311,0.022855282,0.1076245,0.012831688,0.0053963065,0.013127744,0.0051097274,0.004913926,0.007459402,0.0344072,0.02488494,0.011833668,0.015138149,0.007989287,0.02858591,0.0000333786,0.005391538,0.016069412,0.018013,0.014226079,0.006723881,0.008051395,0.0109500885,0.005534768,0.008232832,0.0061986446,0.0038106441,0.0011985302,0.15885162,0.041608572,0.030548573,0.030047184,0.015290976,0.005845189,0.005869031,0.02365768,0.00036770105,0.014183113,0.0351617,0.0087964535,0.0022969246,0.019307137,0.017210722,0.0039588213,0.00038218498,0.020601273,0.010816336,0.010448694,0.00544405,0.0036103725,0.0386526,0.023065448,0.003395319,0.002039194,0.053203344,0.01590228,0.26456046,0.015673041,0.004326582,0.004006624,0.016227007,0.00010025501,0.0038967133,0.0065853596,0.0084860325,0.0018576384,0.0041308403,0.018237472,0.050242603,0.037090957,0.009221315,0.015037775,0.047845304,0.006752491,0.038466334,0.011069536,0.023022486,0.006055355,0.008839369,0.018309057,0.013017893,0.0034717321,0.008347511,0.015572786,0.005095482,0.014120936,0.014321566,0.011690259,0.033342242,0.016456231,0.010138273,0.00350523,0.017578483,0.036546588,0.0028891563,0.0025309324,0.009823084,0.022530675,0.028519042,0.03265936,0.01188612,0.0011985302,0.045215607,0.0057783127,0.00030088425,0.001404047,0.008906364,0.0040495396,0.0066952705,0.001131773,0.010267258,0.019899368,0.0044267178,0.00045847893,0.0019483566,0.030147433,0.021069288,0.04885294,0.00059199333,0.011131585,0.020567894,0.012311101,0.006752491,0.011208057,0.0073399544,0.022869706,0.06048119,0.014736891,0.028070144,0.0085862875,0.02029109,0.0045654774,0.0072538853,0.009221315,0.011852741,0.005969286,0.011021733,0.20440394,0.015018702,0.012320757,0.013844013,0.09562855,0.11128253,0.00461787,0.0020389557,0.00075912476,0.0025262833,0.00820899,0.003099203,0.0013848543,0.0057783127,0.031479716,0.008457303,0.0044460297,0.011547089,0.0064946413,0.0044937134,0.013691187,0.0030562878,0.0393641,0.010969222,0.014942408,0.011575699,0.037606735,0.011322498,0.024880137,0.0011413097,0.02348566,0.01128912,0.0006303787,0.0008356571,0.017062783,0.0037915707,0.005945444,0.013844013,0.011752367,0.006017208,0.038270522,0.019283295,0.039278146,0.017826736,0.03910148,0.009866118,0.005730629,0.02406831,0.007979631,0.015596628,0.013356924,0.00293684,0.017115235,0.0037965775,0.03824663,0.0019054413,0.015582323,0.010338783,0.0062510967,0.027970076,0.010864139,0.021441806,0.026293674,0.01350981,0.07512277,0.0023925304,0.015692174,0.020109415,0.019927979,0.0013418198,0.005730629,0.0038394928,0.0018908978,0.0033094883,0.00803709,0.012377977,0.015754461,0.0056970716,0.013466835,0.0033380985,0.0030372143,0.024450302,0.0030515194,0.0032281876,0.031594396,0.0036914349,0.013786793,0.0015282631,0.020119071,0.006079197,0.033905745,0.01371026,0.048695326,0.011866808,0.008653164,0.03466499,0.026470423,0.059277765,0.0031850338,0.011489749,0.011790514,0.012817323,0.011986434,0.026651833,0.035123497,0.0410164,0.007736206,0.041107178,0.0046129227,0.017678738,0.007850885,0.010668516,0.016322516,0.0036628246,0.01850009,0.0038204193,0.0016331673,0.004283428,0.008600593,0.03338045,0.010334253,0.03998971,0.011336923,0.013648272,0.004909277,0.0015184879,0.032458782,0.00544405,0.0040495396,0.007712364,0.03157533,0.0054392815,0.012955785,0.01165688,0.01544857,0.034755766,0.011613846,0.009350359,0.010701895,0.016317844,0.002277851,0.024332047,0.03253997,0.01578784,0.077859044,0.001714468,0.014615059,0.0034861565,0.009393215,0.008013189,0.007989407,0.003242612,0.0033857822,0.006136656,0.008419037,0.0071870685,0.005530119,0.013992071,0.008619666,0.004827976,0.019603252,0.0018099546,0.022755027,0.005348444,0.027005196,0.017072264,0.051952362,0.011093378,0.96071815,0.00022435188,0.034736633,0.03688564,0.0560925,0.009684563,0.013423681,0.009159327,0.005124092,0.009455204,0.016938567,0.01690507,0.007788658,0.00048732758,0.0074640512,0.0036196709,0.00018620491,0.000052452087,0.00407815,0.008189917,0.012903333,0.00940752,0.012315869,0.007750571,0.07310749,0.0024020672,0.00083088875,0.03765869,0.0059740543,0.013552725,0.009460211,0.025462745,0.032014668,0.0021298528,0.059597716,0.03160876,0.005281627,0.0035481453,0.0014564991,0.028318405,0.009001732,0.009966373,0.045190215,0.003557682,0.02078271,0.025357664,0.014226198,0.037582874,0.0032567978,0.013805866,0.009340823,0.011967301,0.014092326,0.009264469,0.005085945,0.011102915,0.041858673,0.016962409,0.00052535534,0.008533716,0.012979686,0.011265278,0.07344177,0.044454694,0.007712364,0.0029463768,0.00897783,0.008452535,0.029951692,0.0030035973,0.0100284815,0.013108611,0.009293079,0.022019625,0.00015759468,0.0037582517,0.010630131,0.012019873,0.016212702,0.01111722,0.014608026,0.008256674,0.006103039,0.005209923,0.038628697,0.028562069,0.031685166,0.021637678,0.0061508417,0.013963461,0.032955408,0.0047898293,0.017798185,0.0026599765,0.0043694973,0.009932995,0.009928167,0.012783766,0.019827724,0.058470607,0.027879238,0.0039539337,0.0100188255,0.019985199,0.00644207,0.006766796,0.001093626,0.086125374,0.0056016445,0.038695455,0.0020534992,0.037869394,0.028495133,0.009531856,0.01828523,0.0007162094,0.039292455,0.005720973,0.013060868,0.007731676,0.011231899,0.006938696,0.018944241,0.04906784,0.10899031,0.0045509934,0.0033426285,0.0023019314,0.022731181,0.007559538,0.0016283989,0.0165326,0.004149914,0.0028367043,0.008218646,0.010276794,0.035094842,0.015974045,0.028433084,0.023127556,0.006375313,0.03740139,0.016284227,0.0085814,0.0044794083,0.00937891,0.0115709305,0.0030372143,0.00065898895,0.0064706802,0.003615141,0.0018672943,0.009999812,0.008447766,0.0079751015,0.0016140938,0.009569883,0.01531967,0.011341691,0.008476496,0.026074003,0.012373209,0.044788957,0.0084095,0.03191912,0.020935595,0.0134859085,0.008218527,0.00293684,0.031346083,0.0028173923,0.04021891,0.017024517,0.009164095,0.009331286,0.009679854,0.017277718,0.010420024,0.0095078945,0.01100266,0.006255865,0.013600469,0.012358904,0.013767719,0.018261433,0.04048156,0.040066123,0.011303484,0.010186076,0.025988046,0.0014278889,0.011313081,0.0033857822,0.00036764145,0.023562111,0.011852741,0.006843269,0.0185287,0.0018527508,0.005324602,0.0020868778,0.0020534992,0.0065996647,0.0018577576,0.0029751062,0.0048948526,0.012979627,0.009555817,0.024211586,0.0038585663,0.002101183,0.00006687641,0.007659793,0.0009884834,0.0016427636,0.019054115,0.0032713413,0.010014176,0.013194561,0.07504633,0.031575322,0.0007545948,0.028065324,0.015286207,0.02034831,0.057386637,0.0030849576,0.0027506351,0.03542435,0.0011746883,0.034693718,0.01724422,0.0016618967,0.008204222,0.011136293,0.017970085,0.008667469,0.021480016,0.023581266,0.010921478,0.03636986,0.035013676,0.033757806,0.008505106,0.0062031746,0.012440085],\"type\":\"scatter\"},{\"hovertemplate\":\"Timestamp: %{x}\\u003cbr\\u003eError: %{y:.4f}\",\"marker\":{\"color\":\"red\",\"size\":8,\"symbol\":\"circle\"},\"mode\":\"markers\",\"name\":\"Detected Peaks\",\"x\":[49,54,107,121,161,168,183,217,271,311,413,450,458,523,654,662,684,718,777,857,876,948,994,1035,1088,1130,1156,1182,1210,1291,1295,1296,1459,1583],\"y\":[0.17780876,0.10452522,0.1965828,0.30283642,0.11042774,0.16360718,0.3349743,1.7711143,0.14545631,0.10149759,0.12144953,0.6430435,0.13657188,0.30216026,0.10979736,0.2721901,0.26452637,1.4450989,0.7534523,2.3698196,0.35834503,0.16542196,0.34591103,1.0064125,1.2568779,0.09178431,0.1076245,0.15885162,0.26456046,0.20440394,0.09562855,0.11128253,0.96071815,0.10899031],\"type\":\"scatter\"}],                        {\"template\":{\"data\":{\"barpolar\":[{\"marker\":{\"line\":{\"color\":\"white\",\"width\":0.5},\"pattern\":{\"fillmode\":\"overlay\",\"size\":10,\"solidity\":0.2}},\"type\":\"barpolar\"}],\"bar\":[{\"error_x\":{\"color\":\"#2a3f5f\"},\"error_y\":{\"color\":\"#2a3f5f\"},\"marker\":{\"line\":{\"color\":\"white\",\"width\":0.5},\"pattern\":{\"fillmode\":\"overlay\",\"size\":10,\"solidity\":0.2}},\"type\":\"bar\"}],\"carpet\":[{\"aaxis\":{\"endlinecolor\":\"#2a3f5f\",\"gridcolor\":\"#C8D4E3\",\"linecolor\":\"#C8D4E3\",\"minorgridcolor\":\"#C8D4E3\",\"startlinecolor\":\"#2a3f5f\"},\"baxis\":{\"endlinecolor\":\"#2a3f5f\",\"gridcolor\":\"#C8D4E3\",\"linecolor\":\"#C8D4E3\",\"minorgridcolor\":\"#C8D4E3\",\"startlinecolor\":\"#2a3f5f\"},\"type\":\"carpet\"}],\"choropleth\":[{\"colorbar\":{\"outlinewidth\":0,\"ticks\":\"\"},\"type\":\"choropleth\"}],\"contourcarpet\":[{\"colorbar\":{\"outlinewidth\":0,\"ticks\":\"\"},\"type\":\"contourcarpet\"}],\"contour\":[{\"colorbar\":{\"outlinewidth\":0,\"ticks\":\"\"},\"colorscale\":[[0.0,\"#0d0887\"],[0.1111111111111111,\"#46039f\"],[0.2222222222222222,\"#7201a8\"],[0.3333333333333333,\"#9c179e\"],[0.4444444444444444,\"#bd3786\"],[0.5555555555555556,\"#d8576b\"],[0.6666666666666666,\"#ed7953\"],[0.7777777777777778,\"#fb9f3a\"],[0.8888888888888888,\"#fdca26\"],[1.0,\"#f0f921\"]],\"type\":\"contour\"}],\"heatmapgl\":[{\"colorbar\":{\"outlinewidth\":0,\"ticks\":\"\"},\"colorscale\":[[0.0,\"#0d0887\"],[0.1111111111111111,\"#46039f\"],[0.2222222222222222,\"#7201a8\"],[0.3333333333333333,\"#9c179e\"],[0.4444444444444444,\"#bd3786\"],[0.5555555555555556,\"#d8576b\"],[0.6666666666666666,\"#ed7953\"],[0.7777777777777778,\"#fb9f3a\"],[0.8888888888888888,\"#fdca26\"],[1.0,\"#f0f921\"]],\"type\":\"heatmapgl\"}],\"heatmap\":[{\"colorbar\":{\"outlinewidth\":0,\"ticks\":\"\"},\"colorscale\":[[0.0,\"#0d0887\"],[0.1111111111111111,\"#46039f\"],[0.2222222222222222,\"#7201a8\"],[0.3333333333333333,\"#9c179e\"],[0.4444444444444444,\"#bd3786\"],[0.5555555555555556,\"#d8576b\"],[0.6666666666666666,\"#ed7953\"],[0.7777777777777778,\"#fb9f3a\"],[0.8888888888888888,\"#fdca26\"],[1.0,\"#f0f921\"]],\"type\":\"heatmap\"}],\"histogram2dcontour\":[{\"colorbar\":{\"outlinewidth\":0,\"ticks\":\"\"},\"colorscale\":[[0.0,\"#0d0887\"],[0.1111111111111111,\"#46039f\"],[0.2222222222222222,\"#7201a8\"],[0.3333333333333333,\"#9c179e\"],[0.4444444444444444,\"#bd3786\"],[0.5555555555555556,\"#d8576b\"],[0.6666666666666666,\"#ed7953\"],[0.7777777777777778,\"#fb9f3a\"],[0.8888888888888888,\"#fdca26\"],[1.0,\"#f0f921\"]],\"type\":\"histogram2dcontour\"}],\"histogram2d\":[{\"colorbar\":{\"outlinewidth\":0,\"ticks\":\"\"},\"colorscale\":[[0.0,\"#0d0887\"],[0.1111111111111111,\"#46039f\"],[0.2222222222222222,\"#7201a8\"],[0.3333333333333333,\"#9c179e\"],[0.4444444444444444,\"#bd3786\"],[0.5555555555555556,\"#d8576b\"],[0.6666666666666666,\"#ed7953\"],[0.7777777777777778,\"#fb9f3a\"],[0.8888888888888888,\"#fdca26\"],[1.0,\"#f0f921\"]],\"type\":\"histogram2d\"}],\"histogram\":[{\"marker\":{\"pattern\":{\"fillmode\":\"overlay\",\"size\":10,\"solidity\":0.2}},\"type\":\"histogram\"}],\"mesh3d\":[{\"colorbar\":{\"outlinewidth\":0,\"ticks\":\"\"},\"type\":\"mesh3d\"}],\"parcoords\":[{\"line\":{\"colorbar\":{\"outlinewidth\":0,\"ticks\":\"\"}},\"type\":\"parcoords\"}],\"pie\":[{\"automargin\":true,\"type\":\"pie\"}],\"scatter3d\":[{\"line\":{\"colorbar\":{\"outlinewidth\":0,\"ticks\":\"\"}},\"marker\":{\"colorbar\":{\"outlinewidth\":0,\"ticks\":\"\"}},\"type\":\"scatter3d\"}],\"scattercarpet\":[{\"marker\":{\"colorbar\":{\"outlinewidth\":0,\"ticks\":\"\"}},\"type\":\"scattercarpet\"}],\"scattergeo\":[{\"marker\":{\"colorbar\":{\"outlinewidth\":0,\"ticks\":\"\"}},\"type\":\"scattergeo\"}],\"scattergl\":[{\"marker\":{\"colorbar\":{\"outlinewidth\":0,\"ticks\":\"\"}},\"type\":\"scattergl\"}],\"scattermapbox\":[{\"marker\":{\"colorbar\":{\"outlinewidth\":0,\"ticks\":\"\"}},\"type\":\"scattermapbox\"}],\"scatterpolargl\":[{\"marker\":{\"colorbar\":{\"outlinewidth\":0,\"ticks\":\"\"}},\"type\":\"scatterpolargl\"}],\"scatterpolar\":[{\"marker\":{\"colorbar\":{\"outlinewidth\":0,\"ticks\":\"\"}},\"type\":\"scatterpolar\"}],\"scatter\":[{\"fillpattern\":{\"fillmode\":\"overlay\",\"size\":10,\"solidity\":0.2},\"type\":\"scatter\"}],\"scatterternary\":[{\"marker\":{\"colorbar\":{\"outlinewidth\":0,\"ticks\":\"\"}},\"type\":\"scatterternary\"}],\"surface\":[{\"colorbar\":{\"outlinewidth\":0,\"ticks\":\"\"},\"colorscale\":[[0.0,\"#0d0887\"],[0.1111111111111111,\"#46039f\"],[0.2222222222222222,\"#7201a8\"],[0.3333333333333333,\"#9c179e\"],[0.4444444444444444,\"#bd3786\"],[0.5555555555555556,\"#d8576b\"],[0.6666666666666666,\"#ed7953\"],[0.7777777777777778,\"#fb9f3a\"],[0.8888888888888888,\"#fdca26\"],[1.0,\"#f0f921\"]],\"type\":\"surface\"}],\"table\":[{\"cells\":{\"fill\":{\"color\":\"#EBF0F8\"},\"line\":{\"color\":\"white\"}},\"header\":{\"fill\":{\"color\":\"#C8D4E3\"},\"line\":{\"color\":\"white\"}},\"type\":\"table\"}]},\"layout\":{\"annotationdefaults\":{\"arrowcolor\":\"#2a3f5f\",\"arrowhead\":0,\"arrowwidth\":1},\"autotypenumbers\":\"strict\",\"coloraxis\":{\"colorbar\":{\"outlinewidth\":0,\"ticks\":\"\"}},\"colorscale\":{\"diverging\":[[0,\"#8e0152\"],[0.1,\"#c51b7d\"],[0.2,\"#de77ae\"],[0.3,\"#f1b6da\"],[0.4,\"#fde0ef\"],[0.5,\"#f7f7f7\"],[0.6,\"#e6f5d0\"],[0.7,\"#b8e186\"],[0.8,\"#7fbc41\"],[0.9,\"#4d9221\"],[1,\"#276419\"]],\"sequential\":[[0.0,\"#0d0887\"],[0.1111111111111111,\"#46039f\"],[0.2222222222222222,\"#7201a8\"],[0.3333333333333333,\"#9c179e\"],[0.4444444444444444,\"#bd3786\"],[0.5555555555555556,\"#d8576b\"],[0.6666666666666666,\"#ed7953\"],[0.7777777777777778,\"#fb9f3a\"],[0.8888888888888888,\"#fdca26\"],[1.0,\"#f0f921\"]],\"sequentialminus\":[[0.0,\"#0d0887\"],[0.1111111111111111,\"#46039f\"],[0.2222222222222222,\"#7201a8\"],[0.3333333333333333,\"#9c179e\"],[0.4444444444444444,\"#bd3786\"],[0.5555555555555556,\"#d8576b\"],[0.6666666666666666,\"#ed7953\"],[0.7777777777777778,\"#fb9f3a\"],[0.8888888888888888,\"#fdca26\"],[1.0,\"#f0f921\"]]},\"colorway\":[\"#636efa\",\"#EF553B\",\"#00cc96\",\"#ab63fa\",\"#FFA15A\",\"#19d3f3\",\"#FF6692\",\"#B6E880\",\"#FF97FF\",\"#FECB52\"],\"font\":{\"color\":\"#2a3f5f\"},\"geo\":{\"bgcolor\":\"white\",\"lakecolor\":\"white\",\"landcolor\":\"white\",\"showlakes\":true,\"showland\":true,\"subunitcolor\":\"#C8D4E3\"},\"hoverlabel\":{\"align\":\"left\"},\"hovermode\":\"closest\",\"mapbox\":{\"style\":\"light\"},\"paper_bgcolor\":\"white\",\"plot_bgcolor\":\"white\",\"polar\":{\"angularaxis\":{\"gridcolor\":\"#EBF0F8\",\"linecolor\":\"#EBF0F8\",\"ticks\":\"\"},\"bgcolor\":\"white\",\"radialaxis\":{\"gridcolor\":\"#EBF0F8\",\"linecolor\":\"#EBF0F8\",\"ticks\":\"\"}},\"scene\":{\"xaxis\":{\"backgroundcolor\":\"white\",\"gridcolor\":\"#DFE8F3\",\"gridwidth\":2,\"linecolor\":\"#EBF0F8\",\"showbackground\":true,\"ticks\":\"\",\"zerolinecolor\":\"#EBF0F8\"},\"yaxis\":{\"backgroundcolor\":\"white\",\"gridcolor\":\"#DFE8F3\",\"gridwidth\":2,\"linecolor\":\"#EBF0F8\",\"showbackground\":true,\"ticks\":\"\",\"zerolinecolor\":\"#EBF0F8\"},\"zaxis\":{\"backgroundcolor\":\"white\",\"gridcolor\":\"#DFE8F3\",\"gridwidth\":2,\"linecolor\":\"#EBF0F8\",\"showbackground\":true,\"ticks\":\"\",\"zerolinecolor\":\"#EBF0F8\"}},\"shapedefaults\":{\"line\":{\"color\":\"#2a3f5f\"}},\"ternary\":{\"aaxis\":{\"gridcolor\":\"#DFE8F3\",\"linecolor\":\"#A2B1C6\",\"ticks\":\"\"},\"baxis\":{\"gridcolor\":\"#DFE8F3\",\"linecolor\":\"#A2B1C6\",\"ticks\":\"\"},\"bgcolor\":\"white\",\"caxis\":{\"gridcolor\":\"#DFE8F3\",\"linecolor\":\"#A2B1C6\",\"ticks\":\"\"}},\"title\":{\"x\":0.05},\"xaxis\":{\"automargin\":true,\"gridcolor\":\"#EBF0F8\",\"linecolor\":\"#EBF0F8\",\"ticks\":\"\",\"title\":{\"standoff\":15},\"zerolinecolor\":\"#EBF0F8\",\"zerolinewidth\":2},\"yaxis\":{\"automargin\":true,\"gridcolor\":\"#EBF0F8\",\"linecolor\":\"#EBF0F8\",\"ticks\":\"\",\"title\":{\"standoff\":15},\"zerolinecolor\":\"#EBF0F8\",\"zerolinewidth\":2}}},\"legend\":{\"x\":0.01,\"y\":0.99},\"title\":{\"text\":\"Interactive Reconstruction Error\"},\"xaxis\":{\"title\":{\"text\":\"Timestamp\"}},\"yaxis\":{\"title\":{\"text\":\"Reconstruction Error\"}},\"hovermode\":\"x unified\"},                        {\"responsive\": true}                    ).then(function(){\n",
              "                            \n",
              "var gd = document.getElementById('6b2b19c7-5800-40b9-9940-28fbc2fb6d02');\n",
              "var x = new MutationObserver(function (mutations, observer) {{\n",
              "        var display = window.getComputedStyle(gd).display;\n",
              "        if (!display || display === 'none') {{\n",
              "            console.log([gd, 'removed!']);\n",
              "            Plotly.purge(gd);\n",
              "            observer.disconnect();\n",
              "        }}\n",
              "}});\n",
              "\n",
              "// Listen for the removal of the full notebook cells\n",
              "var notebookContainer = gd.closest('#notebook-container');\n",
              "if (notebookContainer) {{\n",
              "    x.observe(notebookContainer, {childList: true});\n",
              "}}\n",
              "\n",
              "// Listen for the clearing of the current output cell\n",
              "var outputEl = gd.closest('.output');\n",
              "if (outputEl) {{\n",
              "    x.observe(outputEl, {childList: true});\n",
              "}}\n",
              "\n",
              "                        })                };                            </script>        </div>\n",
              "</body>\n",
              "</html>"
            ]
          },
          "metadata": {},
          "output_type": "display_data"
        }
      ],
      "source": [
        "import plotly.graph_objects as go\n",
        "import pandas as pd\n",
        "\n",
        "# Load  dataset\n",
        "peaks_df = pd.read_csv(\"/content/Peaks.csv\")  # Adjust path if needed\n",
        "\n",
        "# Create interactive line plot\n",
        "fig = go.Figure()\n",
        "\n",
        "# Line: Reconstruction Error\n",
        "fig.add_trace(go.Scatter(\n",
        "    x=peaks_df[\"Timestamp\"],\n",
        "    y=peaks_df[\"Reconstruction_Error\"],\n",
        "    mode='lines',\n",
        "    name='Reconstruction Error',\n",
        "    line=dict(color='blue')\n",
        "))\n",
        "\n",
        "# Points: Detected Peaks\n",
        "fig.add_trace(go.Scatter(\n",
        "    x=peaks_df.loc[peaks_df[\"Peak\"] == 1, \"Timestamp\"],\n",
        "    y=peaks_df.loc[peaks_df[\"Peak\"] == 1, \"Reconstruction_Error\"],\n",
        "    mode='markers',\n",
        "    name='Detected Peaks',\n",
        "    marker=dict(color='red', size=8, symbol='circle'),\n",
        "    hovertemplate='Timestamp: %{x}<br>Error: %{y:.4f}'\n",
        "))\n",
        "\n",
        "# Layout adjustments\n",
        "fig.update_layout(\n",
        "    title=\"Interactive Reconstruction Error\",\n",
        "    xaxis_title=\"Timestamp\",\n",
        "    yaxis_title=\"Reconstruction Error\",\n",
        "    legend=dict(x=0.01, y=0.99),\n",
        "    hovermode=\"x unified\",\n",
        "    template=\"plotly_white\"\n",
        ")\n",
        "\n",
        "fig.show()"
      ]
    },
    {
      "cell_type": "markdown",
      "metadata": {
        "id": "Sr2sGyDR0pJx"
      },
      "source": [
        "### Error Details - Distribution"
      ]
    },
    {
      "cell_type": "code",
      "execution_count": null,
      "metadata": {
        "colab": {
          "base_uri": "https://localhost:8080/"
        },
        "id": "pD3a6e8nPEjy",
        "outputId": "8e4e54fe-784e-41b7-b25d-f1f6fd432846"
      },
      "outputs": [
        {
          "name": "stdout",
          "output_type": "stream",
          "text": [
            "Min Error: 0.00015282631\n",
            "Max Error: 1.5031357\n",
            "Mean Error: 0.06672721650209348\n",
            "98th Percentile Threshold: 0.0961675575199996\n"
          ]
        }
      ],
      "source": [
        "\n",
        "peaks_df = pd.read_csv(\"/content/Peaks_w30_d8.csv\")\n",
        "\n",
        "\n",
        "errors = peaks_df['Reconstruction_Error']\n",
        "\n",
        "\n",
        "min_error = errors.min()\n",
        "max_error = errors.max()\n",
        "mean_error = errors.mean()\n",
        "threshold_98 = np.percentile(errors, 98)\n",
        "\n",
        "# Print results\n",
        "print(f\"Min Error: {min_error}\")\n",
        "print(f\"Max Error: {max_error}\")\n",
        "print(f\"Mean Error: {mean_error}\")\n",
        "print(f\"98th Percentile Threshold: {threshold_98}\")"
      ]
    },
    {
      "cell_type": "code",
      "execution_count": null,
      "metadata": {
        "id": "QKxyi2N_PEf1"
      },
      "outputs": [],
      "source": []
    },
    {
      "cell_type": "code",
      "execution_count": null,
      "metadata": {
        "id": "BIyRsPW9PEbH"
      },
      "outputs": [],
      "source": []
    },
    {
      "cell_type": "code",
      "execution_count": null,
      "metadata": {
        "id": "AyDghgIIPEXS"
      },
      "outputs": [],
      "source": []
    },
    {
      "cell_type": "code",
      "execution_count": null,
      "metadata": {
        "id": "QFOBiiHTPESH"
      },
      "outputs": [],
      "source": []
    },
    {
      "cell_type": "code",
      "execution_count": null,
      "metadata": {
        "id": "2dP0pBWjPEKP"
      },
      "outputs": [],
      "source": []
    },
    {
      "cell_type": "code",
      "execution_count": null,
      "metadata": {
        "id": "qWOFxbG_sP-s"
      },
      "outputs": [],
      "source": []
    },
    {
      "cell_type": "code",
      "execution_count": null,
      "metadata": {
        "id": "p5__yjzwsP8E"
      },
      "outputs": [],
      "source": []
    },
    {
      "cell_type": "code",
      "execution_count": null,
      "metadata": {
        "id": "CBbZDAv8sP5a"
      },
      "outputs": [],
      "source": []
    },
    {
      "cell_type": "code",
      "execution_count": null,
      "metadata": {
        "id": "MiFPs27QsP3I"
      },
      "outputs": [],
      "source": []
    },
    {
      "cell_type": "code",
      "execution_count": null,
      "metadata": {
        "id": "QQZB2qr5sP0b"
      },
      "outputs": [],
      "source": []
    },
    {
      "cell_type": "code",
      "execution_count": null,
      "metadata": {
        "id": "yczKplgOsPxl"
      },
      "outputs": [],
      "source": []
    },
    {
      "cell_type": "code",
      "execution_count": null,
      "metadata": {
        "id": "DTtsUDgrsPtt"
      },
      "outputs": [],
      "source": []
    },
    {
      "cell_type": "code",
      "execution_count": null,
      "metadata": {
        "id": "efvEaz4_sPnf"
      },
      "outputs": [],
      "source": []
    },
    {
      "cell_type": "markdown",
      "metadata": {
        "id": "GIcXMJVMU2gd"
      },
      "source": [
        "## To shorten Dataset Length"
      ]
    },
    {
      "cell_type": "code",
      "execution_count": null,
      "metadata": {
        "colab": {
          "base_uri": "https://localhost:8080/"
        },
        "id": "o6eb3dR4NYLo",
        "outputId": "995839eb-3ca5-4d6c-b9d4-f66a2dadd4b5"
      },
      "outputs": [
        {
          "name": "stdout",
          "output_type": "stream",
          "text": [
            "✅ New file 'dataset_20.csv' created with 20% of the data.\n"
          ]
        }
      ],
      "source": [
        "\n",
        "df = pd.read_csv(\"/content/DMC2_S_CP2_52.csv\")\n",
        "\n",
        "# Take 20% of the data\n",
        "df_20 = df.sample(frac=0.2, random_state=42).reset_index(drop=True)\n",
        "\n",
        "# Save to new file\n",
        "df_20.to_csv(\"/content/dataset_20.csv\", index=False)\n",
        "\n",
        "print(\"✅ New file 'dataset_20.csv' created with 20% of the data.\")"
      ]
    },
    {
      "cell_type": "markdown",
      "metadata": {
        "id": "xFE1rwOf1fc_"
      },
      "source": [
        "### Datasset Info"
      ]
    },
    {
      "cell_type": "code",
      "execution_count": null,
      "metadata": {
        "colab": {
          "base_uri": "https://localhost:8080/"
        },
        "id": "Sm5-iSDgyfzb",
        "outputId": "8cb6cb1d-fddb-451c-9319-d5f118f5a4d6"
      },
      "outputs": [
        {
          "name": "stdout",
          "output_type": "stream",
          "text": [
            "<class 'pandas.core.frame.DataFrame'>\n",
            "RangeIndex: 8403 entries, 0 to 8402\n",
            "Data columns (total 56 columns):\n",
            " #   Column        Non-Null Count  Dtype  \n",
            "---  ------        --------------  -----  \n",
            " 0   LOAD|1        8403 non-null   float64\n",
            " 1   LOAD|2        8403 non-null   float64\n",
            " 2   LOAD|3        8403 non-null   float64\n",
            " 3   LOAD|6        8403 non-null   float64\n",
            " 4   ENC_POS|1     8403 non-null   float64\n",
            " 5   ENC_POS|2     8403 non-null   float64\n",
            " 6   ENC_POS|3     8403 non-null   float64\n",
            " 7   ENC_POS|6     8403 non-null   float64\n",
            " 8   CTRL_DIFF2|1  8403 non-null   float64\n",
            " 9   CTRL_DIFF2|2  8403 non-null   float64\n",
            " 10  CTRL_DIFF2|3  8403 non-null   float64\n",
            " 11  CTRL_DIFF2|6  8403 non-null   float64\n",
            " 12  TORQUE|1      8403 non-null   float64\n",
            " 13  TORQUE|2      8403 non-null   float64\n",
            " 14  TORQUE|3      8403 non-null   float64\n",
            " 15  TORQUE|6      8403 non-null   float64\n",
            " 16  DES_POS|1     8403 non-null   float64\n",
            " 17  DES_POS|2     8403 non-null   float64\n",
            " 18  DES_POS|3     8403 non-null   float64\n",
            " 19  DES_POS|6     8403 non-null   float64\n",
            " 20  CTRL_DIFF|1   8403 non-null   float64\n",
            " 21  CTRL_DIFF|2   8403 non-null   float64\n",
            " 22  CTRL_DIFF|3   8403 non-null   float64\n",
            " 23  CTRL_DIFF|6   8403 non-null   float64\n",
            " 24  CTRL_POS|1    8403 non-null   float64\n",
            " 25  CTRL_POS|2    8403 non-null   float64\n",
            " 26  CTRL_POS|3    8403 non-null   float64\n",
            " 27  CTRL_POS|6    8403 non-null   float64\n",
            " 28  VEL_FFW|1     8403 non-null   float64\n",
            " 29  VEL_FFW|2     8403 non-null   float64\n",
            " 30  VEL_FFW|3     8403 non-null   float64\n",
            " 31  VEL_FFW|6     8403 non-null   float64\n",
            " 32  CONT_DEV|1    8403 non-null   float64\n",
            " 33  CONT_DEV|2    8403 non-null   float64\n",
            " 34  CONT_DEV|3    8403 non-null   float64\n",
            " 35  CONT_DEV|6    8403 non-null   float64\n",
            " 36  CMD_SPEED|1   8403 non-null   float64\n",
            " 37  CMD_SPEED|2   8403 non-null   float64\n",
            " 38  CMD_SPEED|3   8403 non-null   float64\n",
            " 39  CMD_SPEED|6   8403 non-null   float64\n",
            " 40  TORQUE_FFW|1  8403 non-null   float64\n",
            " 41  TORQUE_FFW|2  8403 non-null   float64\n",
            " 42  TORQUE_FFW|3  8403 non-null   float64\n",
            " 43  TORQUE_FFW|6  8403 non-null   float64\n",
            " 44  ENC1_POS|1    8403 non-null   float64\n",
            " 45  ENC1_POS|2    8403 non-null   float64\n",
            " 46  ENC1_POS|3    8403 non-null   float64\n",
            " 47  ENC1_POS|6    8403 non-null   float64\n",
            " 48  ENC2_POS|1    8403 non-null   float64\n",
            " 49  ENC2_POS|2    8403 non-null   float64\n",
            " 50  ENC2_POS|3    8403 non-null   float64\n",
            " 51  ENC2_POS|6    8403 non-null   float64\n",
            " 52  CURRENT|1     8403 non-null   float64\n",
            " 53  CURRENT|2     8403 non-null   float64\n",
            " 54  CURRENT|3     8403 non-null   float64\n",
            " 55  CURRENT|6     8403 non-null   float64\n",
            "dtypes: float64(56)\n",
            "memory usage: 3.6 MB\n"
          ]
        }
      ],
      "source": [
        "df_20.info()"
      ]
    },
    {
      "cell_type": "code",
      "execution_count": null,
      "metadata": {
        "colab": {
          "base_uri": "https://localhost:8080/"
        },
        "id": "MmopeUBL1qzP",
        "outputId": "77ffbdb1-2e12-4a5b-8daa-6db6aca4f7aa"
      },
      "outputs": [
        {
          "data": {
            "text/plain": [
              "(42016, 56)"
            ]
          },
          "execution_count": 8,
          "metadata": {},
          "output_type": "execute_result"
        }
      ],
      "source": [
        "df.shape"
      ]
    },
    {
      "cell_type": "markdown",
      "metadata": {
        "id": "0ZEZFInYDcut"
      },
      "source": [
        "## IMP Code snippets"
      ]
    },
    {
      "cell_type": "code",
      "execution_count": null,
      "metadata": {
        "colab": {
          "base_uri": "https://localhost:8080/",
          "height": 598
        },
        "id": "TtMo4moi2yaL",
        "outputId": "398f7c52-7e2a-47ad-d8d9-e72647011ad4"
      },
      "outputs": [
        {
          "data": {
            "image/png": "[encoded data removed]",
            "text/plain": [
              "<Figure size 1200x600 with 1 Axes>"
            ]
          },
          "metadata": {},
          "output_type": "display_data"
        },
        {
          "name": "stdout",
          "output_type": "stream",
          "text": [
            "\n",
            "✅ DONE - 1003 Peaks Detected\n"
          ]
        }
      ],
      "source": [
        "\n",
        "def plot_reconstruction_errors_per_timestep(model, scaler_y, X_input, threshold_percentile=98):\n",
        "    model.eval()\n",
        "    with torch.no_grad():\n",
        "        x2 = model(X_input, X_input)\n",
        "        recon = x2.cpu().numpy().reshape(-1, 1)\n",
        "        true = X_input.cpu().numpy().reshape(-1, 1)\n",
        "        recon_orig = scaler_y.inverse_transform(recon).flatten()\n",
        "        true_orig = scaler_y.inverse_transform(true).flatten()\n",
        "        errors = np.abs(true_orig - recon_orig)\n",
        "\n",
        "        threshold = np.percentile(errors, threshold_percentile)\n",
        "        peaks = [i for i, e in enumerate(errors) if e > threshold]\n",
        "\n",
        "        # Plot\n",
        "        plt.figure(figsize=(12, 6))\n",
        "        plt.plot(errors, label=\"Reconstruction Error (per timestamp)\")\n",
        "        plt.axhline(threshold, color=\"red\", linestyle=\"--\", label=f\"{threshold_percentile}th percentile\")\n",
        "        plt.scatter(peaks, [errors[i] for i in peaks], color='red', s=10, label=\"Detected Peaks\")\n",
        "        plt.title(\"TranAD-style Peak Detection (Transformer)\")\n",
        "        plt.xlabel(\"Timestamp Index\")\n",
        "        plt.ylabel(\"Reconstruction Error\")\n",
        "        plt.legend()\n",
        "        plt.grid(True)\n",
        "        plt.show()\n",
        "\n",
        "        return errors, peaks\n",
        "\n",
        "# 9. Run and Plot\n",
        "errors, peaks = plot_reconstruction_errors_per_timestep(model, scaler_y, X_test_tensor)\n",
        "print(f\"\\n✅ DONE - {len(peaks)} Peaks Detected\")\n",
        "\n",
        "\n",
        "\n",
        "\n",
        "## Dataset\n",
        "not_non_features = [\n",
        "       'LOAD|1', 'LOAD|2', 'LOAD|3', 'LOAD|6',\n",
        "       'ENC_POS|1', 'ENC_POS|2', 'ENC_POS|3','ENC_POS|6',\n",
        "       'CTRL_DIFF2|1', 'CTRL_DIFF2|2', 'CTRL_DIFF2|3', 'CTRL_DIFF2|6',\n",
        "       'TORQUE|1', 'TORQUE|2', 'TORQUE|3', 'TORQUE|6',\n",
        "       'DES_POS|1', 'DES_POS|2', 'DES_POS|3', 'DES_POS|6',\n",
        "\n",
        "       #'CURRENT|1', 'CURRENT|2', 'CURRENT|3',\n",
        "\n",
        "\n",
        "       'CTRL_DIFF|1', 'CTRL_DIFF|2', 'CTRL_DIFF|3' ,'CTRL_DIFF|6',\n",
        "       'CTRL_POS|1', 'CTRL_POS|2', 'CTRL_POS|3', 'CTRL_POS|6',\n",
        "       'VEL_FFW|1', 'VEL_FFW|2','VEL_FFW|3', 'VEL_FFW|6',\n",
        "       #'POWER|1','POWER|2', 'POWER|3', 'POWER|6',\n",
        "       'CONT_DEV|1','CONT_DEV|2', 'CONT_DEV|3', 'CONT_DEV|6',\n",
        "       #'A_DBD|0',\n",
        "       'CMD_SPEED|1', 'CMD_SPEED|2', 'CMD_SPEED|3', 'CMD_SPEED|6',\n",
        "       'TORQUE_FFW|1', 'TORQUE_FFW|2', 'TORQUE_FFW|3', 'TORQUE_FFW|6',\n",
        "       'ENC1_POS|1', 'ENC1_POS|2', 'ENC1_POS|3','ENC1_POS|6',\n",
        "       'ENC2_POS|1', 'ENC2_POS|2', 'ENC2_POS|3', 'ENC2_POS|6']\n",
        "target = 'CURRENT|6'"
      ]
    },
    {
      "cell_type": "code",
      "execution_count": null,
      "metadata": {
        "colab": {
          "base_uri": "https://localhost:8080/"
        },
        "id": "AtYYxhRREe5Z",
        "outputId": "47a55a37-86fe-416f-f87c-361d41c56fba"
      },
      "outputs": [
        {
          "data": {
            "text/plain": [
              "(42016, 56)"
            ]
          },
          "execution_count": 3,
          "metadata": {},
          "output_type": "execute_result"
        }
      ],
      "source": [
        "dftest = pd.read_csv(\"/content/DMC2_S_CP2_52.csv\")\n",
        "\n",
        "dftest.shape"
      ]
    },
    {
      "cell_type": "code",
      "execution_count": null,
      "metadata": {
        "id": "30C-pXz2pFCX"
      },
      "outputs": [],
      "source": []
    }
  ],
  "metadata": {
    "colab": {
      "provenance": []
    },
    "kernelspec": {
      "display_name": "Python 3",
      "name": "python3"
    },
    "language_info": {
      "name": "python"
    }
  },
  "nbformat": 4,
  "nbformat_minor": 0
}