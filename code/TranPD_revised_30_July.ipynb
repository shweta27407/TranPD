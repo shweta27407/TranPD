{
  "nbformat": 4,
  "nbformat_minor": 0,
  "metadata": {
    "colab": {
      "provenance": []
    },
    "kernelspec": {
      "name": "python3",
      "display_name": "Python 3"
    },
    "language_info": {
      "name": "python"
    }
  },
  "cells": [
    {
      "cell_type": "code",
      "execution_count": null,
      "metadata": {
        "id": "8uVeBSDTYH-O"
      },
      "outputs": [],
      "source": [
        "import os\n",
        "import numpy as np\n",
        "import pandas as pd\n",
        "import matplotlib.pyplot as plt\n",
        "\n",
        "import torch\n",
        "import torch.nn as nn\n",
        "import math\n",
        "from torch.nn import TransformerEncoder, TransformerEncoderLayer, TransformerDecoder, TransformerDecoderLayer\n",
        "from tensorflow.keras.optimizers import Adam\n",
        "from torch.utils.data import DataLoader, TensorDataset\n",
        "\n",
        "from sklearn.metrics import accuracy_score, f1_score\n",
        "plt.style.use(\"seaborn-v0_8\")\n",
        "from sklearn.preprocessing import MinMaxScaler"
      ]
    },
    {
      "cell_type": "code",
      "source": [
        "\n",
        "# === Step 1: Load CSV ===\n",
        "csv_path = \"/content/DMC2_S_CP2_52.csv\"\n",
        "df = pd.read_csv(csv_path)\n",
        "print(\"✅ Step 1 - Loaded CSV Shape:\", df.shape)\n",
        "\n",
        "# === Step 2: Extract 'CURRENT|6' column as univariate input x ===\n",
        "target_col = \"CURRENT|6\"\n",
        "\n",
        "x = df[[target_col]].values  # shape: (T, 1)\n",
        "print(\"✅ Step 2 - Extracted x shape:\", x.shape)\n",
        "\n",
        "# === Step 3: Normalize x using MinMaxScaler ===\n",
        "scaler = MinMaxScaler()\n",
        "x_scaled = scaler.fit_transform(x)\n",
        "print(\"✅ Step 3 - Normalized x. Shape:\", x_scaled.shape)\n",
        "\n"
      ],
      "metadata": {
        "colab": {
          "base_uri": "https://localhost:8080/"
        },
        "id": "OTh_J3-FcsDd",
        "outputId": "b9afa6a2-b109-424a-ab9e-7cb27b38e534"
      },
      "execution_count": null,
      "outputs": [
        {
          "output_type": "stream",
          "name": "stdout",
          "text": [
            "✅ Step 1 - Loaded CSV Shape: (42016, 56)\n",
            "✅ Step 2 - Extracted x shape: (42016, 1)\n",
            "✅ Step 3 - Normalized x. Shape: (42016, 1)\n"
          ]
        }
      ]
    },
    {
      "cell_type": "code",
      "source": [
        "# === Step 4: Create sliding windows ===\n",
        "dim = 16          # Model dimension (used for projecting input)\n",
        "window_size = 60\n",
        "\n",
        "def create_sliding_windows(data, window_size):\n",
        "    return np.array([data[i:i + window_size] for i in range(len(data) - window_size)])\n",
        "\n",
        "# shape: [N_windows, window_size, 1]\n",
        "X_all = create_sliding_windows(x_scaled, window_size)\n",
        "print(\"✅ Step 4 - Created sliding windows. Shape:\", X_all.shape)"
      ],
      "metadata": {
        "colab": {
          "base_uri": "https://localhost:8080/"
        },
        "id": "2dPdRREDdTe6",
        "outputId": "2406e05a-0dc1-4eb9-d74d-ffba677f1fb7"
      },
      "execution_count": null,
      "outputs": [
        {
          "output_type": "stream",
          "name": "stdout",
          "text": [
            "✅ Step 4 - Created sliding windows. Shape: (41956, 60, 1)\n"
          ]
        }
      ]
    },
    {
      "cell_type": "code",
      "source": [
        "# === Step 5: Chronological Train-Test Split (60% - 40%) ===\n",
        "n_total = X_all.shape[0]\n",
        "n_train = int(n_total * 0.6)\n",
        "\n",
        "X_train = X_all[:n_train]  # First 60%\n",
        "X_test = X_all[n_train:]   # Remaining 40%\n",
        "\n",
        "print(\"✅ Step 5 - Train/Test split\")\n",
        "print(\"Train shape:\", X_train.shape)\n",
        "print(\"Test shape :\", X_test.shape)\n",
        "\n",
        "# === Step 6: Convert to PyTorch tensors ===\n",
        "X_train_tensor = torch.tensor(X_train, dtype=torch.float32)  # [B, T, 1]\n",
        "X_test_tensor = torch.tensor(X_test, dtype=torch.float32)\n",
        "\n",
        "print(\"\\n\\n✅ Step 6 - Converted to torch tensors.\")\n",
        "print(\"X_train_tensor:\", X_train_tensor.shape)\n",
        "print(\"X_test_tensor :\", X_test_tensor.shape)"
      ],
      "metadata": {
        "colab": {
          "base_uri": "https://localhost:8080/"
        },
        "id": "n7UOXM5OdZo7",
        "outputId": "55715530-7b0d-4ddb-c4fa-c51938fd7df5"
      },
      "execution_count": null,
      "outputs": [
        {
          "output_type": "stream",
          "name": "stdout",
          "text": [
            "✅ Step 5 - Train/Test split\n",
            "Train shape: (25173, 60, 1)\n",
            "Test shape : (16783, 60, 1)\n",
            "\n",
            "\n",
            "✅ Step 6 - Converted to torch tensors.\n",
            "X_train_tensor: torch.Size([25173, 60, 1])\n",
            "X_test_tensor : torch.Size([16783, 60, 1])\n"
          ]
        }
      ]
    },
    {
      "cell_type": "markdown",
      "source": [
        "## Config , Hyperparameters"
      ],
      "metadata": {
        "id": "vYPlAmOEekmp"
      }
    },
    {
      "cell_type": "code",
      "source": [
        "# 🧠 hyperparameters & Config\n",
        "FEATS = 1                  # Input feature dimension\n",
        "DIM_FEEDFORWARD = 64       # Hidden units in FFN\n",
        "NUM_HEADS = 1              # Attention heads (must divide D_MODEL)\n",
        "NUM_ENCODER_LAYERS = 1     # Transformer encoder layers\n",
        "NUM_DECODER_LAYERS = 1     # Transformer decoder layers\n",
        "DROPOUT = 0.1              # Dropout rate\n",
        "\n",
        "D_MODEL = dim\n",
        "window_size = window_size\n",
        "\n",
        "batch_size = 128\n",
        "num_epochs = 50\n",
        "lr = 0.001\n",
        "checkpoint_dir = \"./checkpoints\"\n",
        "os.makedirs(checkpoint_dir, exist_ok=True)  # create the folder if it doesn't exist\n",
        "\n",
        "\n",
        "print(\"\\nDONE - Config\")\n",
        "\n",
        "print(\"\\n\\n✅ Step 7 - Recheck Dim and W_size.\")\n",
        "print(\"Dim :\", D_MODEL)\n",
        "print(\"Window_size :\", window_size)"
      ],
      "metadata": {
        "colab": {
          "base_uri": "https://localhost:8080/"
        },
        "id": "wfhLc2yneCvD",
        "outputId": "f78a883e-b0d5-478a-a728-2474fc49a389"
      },
      "execution_count": null,
      "outputs": [
        {
          "output_type": "stream",
          "name": "stdout",
          "text": [
            "\n",
            "DONE - Config\n",
            "\n",
            "\n",
            "✅ Step 7 - Recheck Dim and W_size.\n",
            "Dim : 16\n",
            "Window_size : 60\n"
          ]
        }
      ]
    },
    {
      "cell_type": "markdown",
      "source": [
        "## Model"
      ],
      "metadata": {
        "id": "O310N1c8fqr7"
      }
    },
    {
      "cell_type": "code",
      "source": [
        "class PositionalEncoding(nn.Module):\n",
        "    def __init__(self, d_model, dropout=DROPOUT, max_len=500):\n",
        "        super().__init__()\n",
        "        self.dropout = nn.Dropout(p=dropout)\n",
        "\n",
        "        # Create sinusoidal positional encoding matrix\n",
        "        pe = torch.zeros(max_len, d_model)\n",
        "        pos = torch.arange(0, max_len).unsqueeze(1).float()\n",
        "        div_term = torch.exp(torch.arange(0, d_model, 2).float() * (-math.log(10000.0) / d_model))\n",
        "\n",
        "        # Apply sine to even indices, cosine to odd indices\n",
        "        pe[:, 0::2] = torch.sin(pos * div_term)\n",
        "        pe[:, 1::2] = torch.cos(pos * div_term[:(d_model // 2 + 1)])  # handles both even/odd d_model\n",
        "\n",
        "        pe = pe.unsqueeze(0)  # shape: (1, max_len, d_model)\n",
        "        self.register_buffer(\"pe\", pe)\n",
        "\n",
        "    def forward(self, x):\n",
        "        # Add positional encoding to input tensor\n",
        "        x = x + self.pe[:, :x.size(1)]\n",
        "        return self.dropout(x)\n",
        "\n",
        "\n",
        "class PeakAD_Transformer(nn.Module):\n",
        "    def __init__(self):\n",
        "        super().__init__()\n",
        "\n",
        "        # Project input features into higher dimension\n",
        "        self.input_proj = nn.Linear(FEATS, D_MODEL)\n",
        "\n",
        "        # Add positional encoding for combined input + error sequence\n",
        "        self.pos_encoder = PositionalEncoding(D_MODEL * 2, DROPOUT, window_size)\n",
        "\n",
        "        # Define encoder block\n",
        "        encoder_layer = nn.TransformerEncoderLayer(\n",
        "            d_model=D_MODEL * 2,\n",
        "            nhead=NUM_HEADS,\n",
        "            dim_feedforward=DIM_FEEDFORWARD,\n",
        "            dropout=DROPOUT,\n",
        "            batch_first=True\n",
        "        )\n",
        "        self.encoder = nn.TransformerEncoder(encoder_layer, num_layers=NUM_ENCODER_LAYERS)\n",
        "\n",
        "        # Define decoder block\n",
        "        decoder_layer = nn.TransformerDecoderLayer(\n",
        "            d_model=D_MODEL * 2,\n",
        "            nhead=NUM_HEADS,\n",
        "            dim_feedforward=DIM_FEEDFORWARD,\n",
        "            dropout=DROPOUT,\n",
        "            batch_first=True\n",
        "        )\n",
        "        self.decoder = nn.TransformerDecoder(decoder_layer, num_layers=NUM_DECODER_LAYERS)\n",
        "\n",
        "        # Output layer to project back to original feature dimension\n",
        "        self.output_layer = nn.Sequential(\n",
        "            nn.Linear(D_MODEL * 2, FEATS),\n",
        "            nn.Sigmoid()\n",
        "        )\n",
        "\n",
        "    def encode(self, src, err, tgt):\n",
        "        # Project source and error\n",
        "        src_enc = self.input_proj(src)\n",
        "        err_enc = self.input_proj(err)\n",
        "\n",
        "        # Concatenate source and error for self-conditioning\n",
        "        combined = torch.cat((src_enc, err_enc), dim=2)\n",
        "        combined = combined * math.sqrt(D_MODEL)\n",
        "\n",
        "        # Add positional encoding\n",
        "        encoded = self.pos_encoder(combined)\n",
        "\n",
        "        # Pass through transformer encoder\n",
        "        memory = self.encoder(encoded)\n",
        "\n",
        "        # Project and duplicate target for decoding\n",
        "        tgt_proj = self.input_proj(tgt)\n",
        "        tgt_combined = torch.cat((tgt_proj, tgt_proj), dim=2)\n",
        "\n",
        "        return tgt_combined, memory\n",
        "\n",
        "    def forward(self, src, tgt):\n",
        "        # Phase 1: Without anomaly signal\n",
        "        err = torch.zeros_like(src)\n",
        "        tgt1, mem1 = self.encode(src, err, tgt)\n",
        "        x1 = self.output_layer(self.decoder(tgt1, mem1))\n",
        "\n",
        "        # Phase 2: With self-conditioning using reconstruction error\n",
        "        err = (x1 - src) ** 2\n",
        "        tgt2, mem2 = self.encode(src, err, tgt)\n",
        "        x2 = self.output_layer(self.decoder(tgt2, mem2))\n",
        "\n",
        "        return x2  # Final reconstructed sequence"
      ],
      "metadata": {
        "id": "xFP_9Sp1ftQ8"
      },
      "execution_count": null,
      "outputs": []
    },
    {
      "cell_type": "markdown",
      "source": [
        "## Model Training"
      ],
      "metadata": {
        "id": "L3YPEQGafwkQ"
      }
    },
    {
      "cell_type": "code",
      "source": [
        "\n",
        "model = PeakAD_Transformer()\n",
        "optimizer = torch.optim.Adam(model.parameters(), lr=lr)\n",
        "criterion = nn.MSELoss()\n",
        "train_loader = DataLoader(TensorDataset(X_train_tensor, X_train_tensor), batch_size=batch_size, shuffle=True)\n",
        "\n",
        "# previous checkpoint to resume from\n",
        "start_epoch = 1  # default\n",
        "\n",
        "# Find checkpoint files matching current config\n",
        "checkpoint_files = [f for f in os.listdir(checkpoint_dir)\n",
        "                    if f\"Ws{window_size}_Dim{D_MODEL}\" in f]\n",
        "\n",
        "# Load latest checkpoint if available\n",
        "if checkpoint_files:\n",
        "    # Sort files based on the epoch number extracted correctly from the filename\n",
        "    latest_checkpoint = sorted(checkpoint_files, key=lambda x: int(x.split(\"_\")[2]))[-1]\n",
        "\n",
        "    checkpoint_path = os.path.join(checkpoint_dir, latest_checkpoint)\n",
        "    checkpoint = torch.load(checkpoint_path)\n",
        "\n",
        "    model.load_state_dict(checkpoint['model_state_dict'])\n",
        "    optimizer.load_state_dict(checkpoint['optimizer_state_dict'])\n",
        "    start_epoch = checkpoint['epoch'] + 1\n",
        "\n",
        "    print(f\"🔁 Resuming training from epoch {start_epoch} (loaded {latest_checkpoint})\")\n",
        "\n",
        "# Training loop\n",
        "model.train()\n",
        "for epoch in range(start_epoch, num_epochs + 1):\n",
        "    print(\"Training Started\")\n",
        "    total_loss = 0\n",
        "    for xb, yb in train_loader:\n",
        "        optimizer.zero_grad()\n",
        "        x2 = model(xb, xb)\n",
        "        loss = criterion(x2, yb)\n",
        "        loss.backward()\n",
        "        optimizer.step()\n",
        "        total_loss += loss.item()\n",
        "\n",
        "    print(f\"Epoch {epoch}/{num_epochs}, Loss: {total_loss:.4f}\")\n",
        "\n",
        "    # Save checkpoint every 50 epochs\n",
        "    if epoch % 10 == 0 or epoch == num_epochs:\n",
        "        ckpt_path = f\"checkpoint_epoch_{epoch}_Ws{window_size}_Dim{D_MODEL}.pt\"\n",
        "        checkpoint_path = os.path.join(checkpoint_dir, ckpt_path)\n",
        "        torch.save({\n",
        "            'epoch': epoch,\n",
        "            'model_state_dict': model.state_dict(),\n",
        "            'optimizer_state_dict': optimizer.state_dict(),\n",
        "        }, checkpoint_path)\n",
        "        print(f\"Checkpoint saved at: {checkpoint_path}\")\n",
        "\n",
        "print(\"DONE: Training complete\")"
      ],
      "metadata": {
        "colab": {
          "base_uri": "https://localhost:8080/"
        },
        "id": "Bzb6cPUMfyY4",
        "outputId": "8b76adee-20db-48e8-e515-94458dce7751"
      },
      "execution_count": null,
      "outputs": [
        {
          "output_type": "stream",
          "name": "stdout",
          "text": [
            "🔁 Resuming training from epoch 51 (loaded checkpoint_epoch_50_Ws60_Dim16.pt)\n",
            "DONE: Training complete\n"
          ]
        },
        {
          "output_type": "stream",
          "name": "stderr",
          "text": [
            "/usr/local/lib/python3.11/dist-packages/torch/nn/modules/transformer.py:385: UserWarning: enable_nested_tensor is True, but self.use_nested_tensor is False because encoder_layer.self_attn.num_heads is odd\n",
            "  warnings.warn(\n"
          ]
        }
      ]
    },
    {
      "cell_type": "markdown",
      "source": [
        "## Plot RE"
      ],
      "metadata": {
        "id": "UJIuYwS4f2Ni"
      }
    },
    {
      "cell_type": "code",
      "source": [
        "def plot_reconstruction_errors_per_timestep(model, scaler, X_input, threshold_percentile=98):\n",
        "    model.eval()\n",
        "    with torch.no_grad():\n",
        "        # Reconstruct using model\n",
        "        recon = model(X_input, X_input)  # [B, T, 1]\n",
        "\n",
        "        # Use only the last timestep of each reconstructed sequence\n",
        "        recon_last = recon[:, -1, 0].cpu().numpy()\n",
        "        true_last = X_input[:, -1, 0].cpu().numpy()\n",
        "\n",
        "        # Inverse transform back to original scale\n",
        "        recon_orig = scaler.inverse_transform(recon_last.reshape(-1, 1)).flatten()\n",
        "        true_orig = scaler.inverse_transform(true_last.reshape(-1, 1)).flatten()\n",
        "\n",
        "        # Compute absolute reconstruction error per last timestamp\n",
        "        errors = np.abs(true_orig - recon_orig)\n",
        "\n",
        "        # Compute threshold based on specified percentile\n",
        "        threshold = np.percentile(errors, threshold_percentile)\n",
        "\n",
        "        # Detect peaks\n",
        "        peaks = [i for i, e in enumerate(errors) if e > threshold]\n",
        "\n",
        "        # Plot\n",
        "        plt.figure(figsize=(14, 6))\n",
        "        plt.plot(errors, label=\"Reconstruction Error (Last Timestep)\", alpha=0.8)\n",
        "        plt.axhline(threshold, color=\"red\", linestyle=\"--\", label=f\"{threshold_percentile}th percentile\")\n",
        "        plt.scatter(peaks, [errors[i] for i in peaks], color='red', s=10, label=\"Detected Peaks\")\n",
        "\n",
        "        plt.xticks(ticks=np.arange(0, len(errors), 300), rotation=90)\n",
        "        plt.title(\"Tran-PD: Peak Detection via Reconstruction Error\")\n",
        "        plt.xlabel(\"Window Index\")\n",
        "        plt.ylabel(\"Reconstruction Error\")\n",
        "        plt.legend()\n",
        "        plt.grid(True)\n",
        "        plt.tight_layout()\n",
        "\n",
        "        # Save plot\n",
        "        plot_filename = f\"reconsn_errors_Ws{window_size}_Dim{D_MODEL}.png\"\n",
        "        plt.savefig(plot_filename)\n",
        "        print(f\"📸 Plot saved as: {plot_filename}\")\n",
        "        plt.show()\n",
        "\n",
        "        return errors, peaks, true_orig, recon_orig, threshold"
      ],
      "metadata": {
        "id": "DpbbrqLvf3tY"
      },
      "execution_count": null,
      "outputs": []
    },
    {
      "cell_type": "code",
      "source": [
        "errors, peaks, true_orig, recon_orig, threshold = plot_reconstruction_errors_per_timestep(\n",
        "    model, scaler, X_test_tensor)\n",
        "### num_of_peaks\n",
        "num_of_peaks = len(peaks)\n",
        "print(threshold)\n",
        "\n",
        "print(f\"\\n DONE - {len(peaks)} Peaks Detected in WINDOW_SIZE - {window_size}, D-MODEL - {D_MODEL} \")"
      ],
      "metadata": {
        "colab": {
          "base_uri": "https://localhost:8080/",
          "height": 394
        },
        "id": "CArkwAI_f8Xb",
        "outputId": "c037644f-1f3d-47a0-bc20-1a9adeb6afae"
      },
      "execution_count": null,
      "outputs": [
        {
          "output_type": "stream",
          "name": "stdout",
          "text": [
            "📸 Plot saved as: reconsn_errors_Ws60_Dim16.png\n"
          ]
        },
        {
          "output_type": "display_data",
          "data": {
            "text/plain": [
              "<Figure size 1400x600 with 1 Axes>"
            ],
            "image/png": "[encoded data removed]"
          },
          "metadata": {}
        },
        {
          "output_type": "stream",
          "name": "stdout",
          "text": [
            "0.15658577\n",
            "\n",
            " DONE - 336 Peaks Detected in WINDOW_SIZE - 60, D-MODEL - 16 \n"
          ]
        }
      ]
    },
    {
      "cell_type": "markdown",
      "source": [
        "### Save PEaks to Dataset"
      ],
      "metadata": {
        "id": "DBnIfhLbtaon"
      }
    },
    {
      "cell_type": "code",
      "source": [
        "start_index = window_size\n",
        "timestamp_indices = np.arange(start_index, start_index + len(true_orig))\n",
        "\n",
        "# Create the Peaks dataset\n",
        "Peaks = pd.DataFrame({\n",
        "    'Timestamp': timestamp_indices,\n",
        "    'True_Value': true_orig,\n",
        "    'Reconstructed_Value': recon_orig,\n",
        "    'Reconstruction_Error': errors,\n",
        "    'Peak': (errors > threshold).astype(int),\n",
        "})\n",
        "\n",
        "Peaks.to_csv(f\"/content/Peaks_Ws{window_size}_Dim{D_MODEL}.csv\", index=False)\n",
        "print(\"Saved Peaks dataset to: /content/Peaks.csv\")"
      ],
      "metadata": {
        "colab": {
          "base_uri": "https://localhost:8080/"
        },
        "id": "qG58UlKsrpy9",
        "outputId": "053f2078-3bf5-4ef5-828d-03ab0f73f223"
      },
      "execution_count": null,
      "outputs": [
        {
          "output_type": "stream",
          "name": "stdout",
          "text": [
            "Saved Peaks dataset to: /content/Peaks.csv\n"
          ]
        }
      ]
    },
    {
      "cell_type": "code",
      "source": [
        "### Peaks Summary"
      ],
      "metadata": {
        "id": "pLLLbetut6Vq"
      },
      "execution_count": null,
      "outputs": []
    },
    {
      "cell_type": "code",
      "source": [
        "print(\"📊 Peak Detection Summary\")\n",
        "print(f\"Number of Peaks Detected : {len(peaks)}\")\n",
        "print(f\"Window Size              : {window_size}\")\n",
        "print(f\"D_MODEL                  : {D_MODEL}\")\n",
        "print(f\"Threshold                : {threshold:.6f}\")\n",
        "print(f\"Mean Reconstruction Error: {np.mean(errors):.6f}\")\n",
        "print(f\"Max Reconstruction Error : {np.max(errors):.6f}\")\n",
        "print(f\"Min Reconstruction Error : {np.min(errors):.6f}\")\n",
        "print(\"-\" * 40)"
      ],
      "metadata": {
        "colab": {
          "base_uri": "https://localhost:8080/"
        },
        "id": "4LOePNKftdzy",
        "outputId": "1e776d82-ac65-4bfc-cd6b-1d2470ea44ef"
      },
      "execution_count": null,
      "outputs": [
        {
          "output_type": "stream",
          "name": "stdout",
          "text": [
            "📊 Peak Detection Summary\n",
            "Number of Peaks Detected : 336\n",
            "Window Size              : 60\n",
            "D_MODEL                  : 16\n",
            "Threshold                : 0.156586\n",
            "Mean Reconstruction Error: 0.132526\n",
            "Max Reconstruction Error : 8.559402\n",
            "Min Reconstruction Error : 0.001244\n",
            "----------------------------------------\n"
          ]
        }
      ]
    },
    {
      "cell_type": "code",
      "source": [],
      "metadata": {
        "id": "hgK7IdBGt9eC"
      },
      "execution_count": null,
      "outputs": []
    }
  ]
}