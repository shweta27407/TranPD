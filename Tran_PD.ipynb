{
  "nbformat": 4,
  "nbformat_minor": 0,
  "metadata": {
    "colab": {
      "provenance": []
    },
    "kernelspec": {
      "name": "python3",
      "display_name": "Python 3"
    },
    "language_info": {
      "name": "python"
    }
  },
  "cells": [
    {
      "cell_type": "markdown",
      "source": [
        "# Transformers for Peak Detection"
      ],
      "metadata": {
        "id": "1RyP6uHNrckT"
      }
    },
    {
      "cell_type": "code",
      "execution_count": null,
      "metadata": {
        "id": "9lbtAwfhrYiF"
      },
      "outputs": [],
      "source": [
        "import numpy as np\n",
        "import pandas as pd\n",
        "import matplotlib.pyplot as plt\n",
        "\n",
        "import torch\n",
        "import torch.nn as nn\n",
        "import math\n",
        "from torch.nn import TransformerEncoder, TransformerEncoderLayer, TransformerDecoder, TransformerDecoderLayer\n",
        "from tensorflow.keras.optimizers import Adam\n",
        "\n",
        "from sklearn.metrics import accuracy_score, f1_score\n",
        "plt.style.use(\"seaborn-v0_8\")\n",
        "from sklearn.preprocessing import MinMaxScaler"
      ]
    },
    {
      "cell_type": "code",
      "source": [
        "not_non_features = [\n",
        "       'LOAD|1', 'LOAD|2', 'LOAD|3', 'LOAD|6',\n",
        "       'ENC_POS|1', 'ENC_POS|2', 'ENC_POS|3','ENC_POS|6',\n",
        "       'CTRL_DIFF2|1', 'CTRL_DIFF2|2', 'CTRL_DIFF2|3', 'CTRL_DIFF2|6',\n",
        "       'TORQUE|1', 'TORQUE|2', 'TORQUE|3', 'TORQUE|6',\n",
        "       'DES_POS|1', 'DES_POS|2', 'DES_POS|3', 'DES_POS|6',\n",
        "\n",
        "       #'CURRENT|1', 'CURRENT|2', 'CURRENT|3',\n",
        "\n",
        "\n",
        "       'CTRL_DIFF|1', 'CTRL_DIFF|2', 'CTRL_DIFF|3' ,'CTRL_DIFF|6',\n",
        "       'CTRL_POS|1', 'CTRL_POS|2', 'CTRL_POS|3', 'CTRL_POS|6',\n",
        "       'VEL_FFW|1', 'VEL_FFW|2','VEL_FFW|3', 'VEL_FFW|6',\n",
        "       #'POWER|1','POWER|2', 'POWER|3', 'POWER|6',\n",
        "       'CONT_DEV|1','CONT_DEV|2', 'CONT_DEV|3', 'CONT_DEV|6',\n",
        "       #'A_DBD|0',\n",
        "       'CMD_SPEED|1', 'CMD_SPEED|2', 'CMD_SPEED|3', 'CMD_SPEED|6',\n",
        "       'TORQUE_FFW|1', 'TORQUE_FFW|2', 'TORQUE_FFW|3', 'TORQUE_FFW|6',\n",
        "       'ENC1_POS|1', 'ENC1_POS|2', 'ENC1_POS|3','ENC1_POS|6',\n",
        "       'ENC2_POS|1', 'ENC2_POS|2', 'ENC2_POS|3', 'ENC2_POS|6']\n",
        "target = 'CURRENT|6'"
      ],
      "metadata": {
        "id": "_G1VOf24sPCh"
      },
      "execution_count": null,
      "outputs": []
    },
    {
      "cell_type": "markdown",
      "source": [
        "## Model Implementation"
      ],
      "metadata": {
        "id": "w6T1P6ql4SBq"
      }
    },
    {
      "cell_type": "code",
      "source": [
        "# 🧠 hyperparameters\n",
        "FEATS = 1                  # Input feature dimension\n",
        "WINDOW_SIZE = 10           # Sequence length\n",
        "D_MODEL = 8               # Model dimension (used for projecting input)\n",
        "DIM_FEEDFORWARD = 64       # Hidden units in FFN\n",
        "NUM_HEADS = 1              # Attention heads (must divide D_MODEL)\n",
        "NUM_ENCODER_LAYERS = 1     # Transformer encoder layers\n",
        "NUM_DECODER_LAYERS = 1     # Transformer decoder layers\n",
        "DROPOUT = 0.1              # Dropout rate\n",
        "\n",
        "# ----------- 1. Load CSV and Config ----------- #\n",
        "csv_path = \"/content/dataset_20.csv\"         # 🔁 Change this to your file\n",
        "target_col = \"CURRENT|6\"               # 🔁 Column name for univariate time series\n",
        "window_size = 30\n",
        "batch_size = 128\n",
        "num_epochs = 100\n",
        "lr = 0.001\n",
        "\n",
        "print(\"\\nDONE - Load CSV and Config\")\n"
      ],
      "metadata": {
        "id": "1zgQP_CfFLWS",
        "colab": {
          "base_uri": "https://localhost:8080/"
        },
        "outputId": "b4e8571f-1c9d-471d-ac5c-b5fc3489612b"
      },
      "execution_count": null,
      "outputs": [
        {
          "output_type": "stream",
          "name": "stdout",
          "text": [
            "\n",
            "DONE - Load CSV and Config\n"
          ]
        }
      ]
    },
    {
      "cell_type": "code",
      "source": [
        "class PositionalEncoding(nn.Module):\n",
        "    def __init__(self, d_model, dropout=DROPOUT, max_len=500):\n",
        "        super().__init__()\n",
        "        self.dropout = nn.Dropout(p=dropout)\n",
        "\n",
        "        # Create sinusoidal positional encoding matrix\n",
        "        pe = torch.zeros(max_len, d_model)\n",
        "        pos = torch.arange(0, max_len).unsqueeze(1).float()\n",
        "        div_term = torch.exp(torch.arange(0, d_model, 2).float() * (-math.log(10000.0) / d_model))\n",
        "\n",
        "        # Apply sine to even indices, cosine to odd indices\n",
        "        pe[:, 0::2] = torch.sin(pos * div_term)\n",
        "        pe[:, 1::2] = torch.cos(pos * div_term[:(d_model // 2 + 1)])  # handles both even/odd d_model\n",
        "\n",
        "        pe = pe.unsqueeze(0)  # shape: (1, max_len, d_model)\n",
        "        self.register_buffer(\"pe\", pe)\n",
        "\n",
        "    def forward(self, x):\n",
        "        # Add positional encoding to input tensor\n",
        "        x = x + self.pe[:, :x.size(1)]\n",
        "        return self.dropout(x)\n",
        "\n",
        "\n",
        "class PeakAD_Transformer(nn.Module):\n",
        "    def __init__(self):\n",
        "        super().__init__()\n",
        "\n",
        "        # Project input features into higher dimension\n",
        "        self.input_proj = nn.Linear(FEATS, D_MODEL)\n",
        "\n",
        "        # Add positional encoding for combined input + error sequence\n",
        "        self.pos_encoder = PositionalEncoding(D_MODEL * 2, DROPOUT, window_size)\n",
        "\n",
        "        # Define encoder block\n",
        "        encoder_layer = nn.TransformerEncoderLayer(\n",
        "            d_model=D_MODEL * 2,\n",
        "            nhead=NUM_HEADS,\n",
        "            dim_feedforward=DIM_FEEDFORWARD,\n",
        "            dropout=DROPOUT\n",
        "        )\n",
        "        self.encoder = nn.TransformerEncoder(encoder_layer, num_layers=NUM_ENCODER_LAYERS)\n",
        "\n",
        "        # Define decoder block\n",
        "        decoder_layer = nn.TransformerDecoderLayer(\n",
        "            d_model=D_MODEL * 2,\n",
        "            nhead=NUM_HEADS,\n",
        "            dim_feedforward=DIM_FEEDFORWARD,\n",
        "            dropout=DROPOUT\n",
        "        )\n",
        "        self.decoder = nn.TransformerDecoder(decoder_layer, num_layers=NUM_DECODER_LAYERS)\n",
        "\n",
        "        # Output layer to project back to original feature dimension\n",
        "        self.output_layer = nn.Sequential(\n",
        "            nn.Linear(D_MODEL * 2, FEATS),\n",
        "            nn.Sigmoid()\n",
        "        )\n",
        "\n",
        "    def encode(self, src, err, tgt):\n",
        "        # Project source and error\n",
        "        src_enc = self.input_proj(src)\n",
        "        err_enc = self.input_proj(err)\n",
        "\n",
        "        # Concatenate source and error for self-conditioning\n",
        "        combined = torch.cat((src_enc, err_enc), dim=2)\n",
        "        combined = combined * math.sqrt(D_MODEL)\n",
        "\n",
        "        # Add positional encoding\n",
        "        encoded = self.pos_encoder(combined)\n",
        "\n",
        "        # Pass through transformer encoder\n",
        "        memory = self.encoder(encoded)\n",
        "\n",
        "        # Project and duplicate target for decoding\n",
        "        tgt_proj = self.input_proj(tgt)\n",
        "        tgt_combined = torch.cat((tgt_proj, tgt_proj), dim=2)\n",
        "\n",
        "        return tgt_combined, memory\n",
        "\n",
        "    def forward(self, src, tgt):\n",
        "        # Phase 1: Without anomaly signal\n",
        "        err = torch.zeros_like(src)\n",
        "        tgt1, mem1 = self.encode(src, err, tgt)\n",
        "        x1 = self.output_layer(self.decoder(tgt1, mem1))\n",
        "\n",
        "        # Phase 2: With self-conditioning using reconstruction error\n",
        "        err = (x1 - src) ** 2\n",
        "        tgt2, mem2 = self.encode(src, err, tgt)\n",
        "        x2 = self.output_layer(self.decoder(tgt2, mem2))\n",
        "\n",
        "        return x2  # Final reconstructed sequence"
      ],
      "metadata": {
        "id": "zWZpXq9tsSgs"
      },
      "execution_count": null,
      "outputs": []
    },
    {
      "cell_type": "markdown",
      "source": [
        "## Train Model"
      ],
      "metadata": {
        "id": "bD1fZN1_IFwP"
      }
    },
    {
      "cell_type": "code",
      "source": [
        "from sklearn.model_selection import train_test_split\n",
        "from torch.utils.data import DataLoader, TensorDataset\n",
        "\n",
        "# ----------- 2. Load and Normalize ----------- #\n",
        "df = pd.read_csv(csv_path)\n",
        "y = df[[target_col]].values\n",
        "scaler_y = MinMaxScaler()\n",
        "y_scaled = scaler_y.fit_transform(y)\n",
        "\n",
        "print(\"\\nDONE - Load and Normalize\")\n",
        "\n",
        "# ----------- 3. Create Sliding Window Data ----------- #\n",
        "def create_windows(data, window_size):\n",
        "    return np.array([data[i:i+window_size] for i in range(len(data) - window_size)])\n",
        "\n",
        "X_all = create_windows(y_scaled, window_size)\n",
        "y_all = X_all.copy()  # reconstruction target = input\n",
        "\n",
        "print(\"\\nDONE - Create Sliding Window\")\n",
        "\n",
        "# ----------- 4. Train-Test Split ----------- #\n",
        "\n",
        "X_train, X_test = train_test_split(X_all, test_size=0.2, random_state=42)\n",
        "# Convert to torch tensors\n",
        "X_train_tensor = torch.tensor(X_train, dtype=torch.float32)\n",
        "X_test_tensor = torch.tensor(X_test, dtype=torch.float32)\n",
        "\n",
        "print(\"\\nDONE - Train-Test Split\")\n",
        "\n",
        "\n",
        "# ----------- 6. Train the Model ----------- #\n",
        "model = PeakAD_Transformer()\n",
        "optimizer = torch.optim.Adam(model.parameters(), lr=lr)\n",
        "criterion = nn.MSELoss()\n",
        "train_loader = DataLoader(TensorDataset(X_train_tensor, X_train_tensor), batch_size=batch_size, shuffle=True)\n",
        "\n",
        "model.train()\n",
        "for epoch in range(num_epochs):\n",
        "    total_loss = 0\n",
        "    for xb, yb in train_loader:\n",
        "        optimizer.zero_grad()\n",
        "        x2 = model(xb, xb)\n",
        "        loss = criterion(x2, yb)\n",
        "        loss.backward()\n",
        "        optimizer.step()\n",
        "        total_loss += loss.item()\n",
        "    print(f\"Epoch {epoch+1}/{num_epochs}, Loss: {total_loss:.4f}\")\n",
        "\n",
        "print(\"\\n✅ DONE - Model Trained\")\n",
        "\n"
      ],
      "metadata": {
        "colab": {
          "base_uri": "https://localhost:8080/"
        },
        "id": "yTrN0Nu5IL2a",
        "outputId": "20f865de-086c-42ca-98ac-bb20683d6295"
      },
      "execution_count": null,
      "outputs": [
        {
          "output_type": "stream",
          "name": "stdout",
          "text": [
            "\n",
            "DONE - Load and Normalize\n",
            "\n",
            "DONE - Create Sliding Window\n",
            "\n",
            "DONE - Train-Test Split\n"
          ]
        },
        {
          "output_type": "stream",
          "name": "stderr",
          "text": [
            "/usr/local/lib/python3.11/dist-packages/torch/nn/modules/transformer.py:385: UserWarning: enable_nested_tensor is True, but self.use_nested_tensor is False because encoder_layer.self_attn.batch_first was not True(use batch_first for better inference performance)\n",
            "  warnings.warn(\n"
          ]
        },
        {
          "output_type": "stream",
          "name": "stdout",
          "text": [
            "Epoch 1/100, Loss: 0.0857\n",
            "Epoch 2/100, Loss: 0.0620\n",
            "Epoch 3/100, Loss: 0.0483\n",
            "Epoch 4/100, Loss: 0.0353\n",
            "Epoch 5/100, Loss: 0.0277\n",
            "Epoch 6/100, Loss: 0.0210\n",
            "Epoch 7/100, Loss: 0.0168\n",
            "Epoch 8/100, Loss: 0.0139\n",
            "Epoch 9/100, Loss: 0.0109\n",
            "Epoch 10/100, Loss: 0.0091\n",
            "Epoch 11/100, Loss: 0.0072\n",
            "Epoch 12/100, Loss: 0.0058\n",
            "Epoch 13/100, Loss: 0.0048\n",
            "Epoch 14/100, Loss: 0.0042\n",
            "Epoch 15/100, Loss: 0.0037\n",
            "Epoch 16/100, Loss: 0.0033\n",
            "Epoch 17/100, Loss: 0.0031\n",
            "Epoch 18/100, Loss: 0.0027\n",
            "Epoch 19/100, Loss: 0.0026\n",
            "Epoch 20/100, Loss: 0.0025\n",
            "Epoch 21/100, Loss: 0.0024\n",
            "Epoch 22/100, Loss: 0.0023\n",
            "Epoch 23/100, Loss: 0.0021\n",
            "Epoch 24/100, Loss: 0.0021\n",
            "Epoch 25/100, Loss: 0.0020\n",
            "Epoch 26/100, Loss: 0.0019\n",
            "Epoch 27/100, Loss: 0.0018\n",
            "Epoch 28/100, Loss: 0.0017\n",
            "Epoch 29/100, Loss: 0.0016\n",
            "Epoch 30/100, Loss: 0.0015\n",
            "Epoch 31/100, Loss: 0.0015\n",
            "Epoch 32/100, Loss: 0.0015\n",
            "Epoch 33/100, Loss: 0.0015\n",
            "Epoch 34/100, Loss: 0.0014\n",
            "Epoch 35/100, Loss: 0.0013\n",
            "Epoch 36/100, Loss: 0.0012\n",
            "Epoch 37/100, Loss: 0.0013\n",
            "Epoch 38/100, Loss: 0.0012\n",
            "Epoch 39/100, Loss: 0.0011\n",
            "Epoch 40/100, Loss: 0.0010\n",
            "Epoch 41/100, Loss: 0.0010\n",
            "Epoch 42/100, Loss: 0.0009\n",
            "Epoch 43/100, Loss: 0.0010\n",
            "Epoch 44/100, Loss: 0.0009\n",
            "Epoch 45/100, Loss: 0.0009\n",
            "Epoch 46/100, Loss: 0.0008\n",
            "Epoch 47/100, Loss: 0.0008\n",
            "Epoch 48/100, Loss: 0.0008\n",
            "Epoch 49/100, Loss: 0.0008\n",
            "Epoch 50/100, Loss: 0.0008\n",
            "Epoch 51/100, Loss: 0.0007\n",
            "Epoch 52/100, Loss: 0.0007\n",
            "Epoch 53/100, Loss: 0.0007\n",
            "Epoch 54/100, Loss: 0.0008\n",
            "Epoch 55/100, Loss: 0.0007\n",
            "Epoch 56/100, Loss: 0.0006\n",
            "Epoch 57/100, Loss: 0.0007\n",
            "Epoch 58/100, Loss: 0.0006\n",
            "Epoch 59/100, Loss: 0.0006\n",
            "Epoch 60/100, Loss: 0.0006\n",
            "Epoch 61/100, Loss: 0.0006\n",
            "Epoch 62/100, Loss: 0.0005\n",
            "Epoch 63/100, Loss: 0.0006\n",
            "Epoch 64/100, Loss: 0.0006\n",
            "Epoch 65/100, Loss: 0.0006\n",
            "Epoch 66/100, Loss: 0.0006\n",
            "Epoch 67/100, Loss: 0.0006\n",
            "Epoch 68/100, Loss: 0.0005\n",
            "Epoch 69/100, Loss: 0.0005\n",
            "Epoch 70/100, Loss: 0.0005\n",
            "Epoch 71/100, Loss: 0.0004\n",
            "Epoch 72/100, Loss: 0.0005\n",
            "Epoch 73/100, Loss: 0.0005\n",
            "Epoch 74/100, Loss: 0.0004\n",
            "Epoch 75/100, Loss: 0.0004\n",
            "Epoch 76/100, Loss: 0.0005\n",
            "Epoch 77/100, Loss: 0.0005\n",
            "Epoch 78/100, Loss: 0.0004\n",
            "Epoch 79/100, Loss: 0.0004\n",
            "Epoch 80/100, Loss: 0.0004\n",
            "Epoch 81/100, Loss: 0.0006\n",
            "Epoch 82/100, Loss: 0.0004\n",
            "Epoch 83/100, Loss: 0.0003\n",
            "Epoch 84/100, Loss: 0.0005\n",
            "Epoch 85/100, Loss: 0.0004\n",
            "Epoch 86/100, Loss: 0.0004\n",
            "Epoch 87/100, Loss: 0.0003\n",
            "Epoch 88/100, Loss: 0.0004\n",
            "Epoch 89/100, Loss: 0.0004\n",
            "Epoch 90/100, Loss: 0.0004\n",
            "Epoch 91/100, Loss: 0.0004\n",
            "Epoch 92/100, Loss: 0.0003\n",
            "Epoch 93/100, Loss: 0.0003\n",
            "Epoch 94/100, Loss: 0.0004\n",
            "Epoch 95/100, Loss: 0.0004\n",
            "Epoch 96/100, Loss: 0.0003\n",
            "Epoch 97/100, Loss: 0.0003\n",
            "Epoch 98/100, Loss: 0.0003\n",
            "Epoch 99/100, Loss: 0.0004\n",
            "Epoch 100/100, Loss: 0.0002\n",
            "\n",
            "✅ DONE - Model Trained\n"
          ]
        }
      ]
    },
    {
      "cell_type": "markdown",
      "source": [
        "## Plot RE"
      ],
      "metadata": {
        "id": "bpPseOUaDVjE"
      }
    },
    {
      "cell_type": "code",
      "source": [
        "def plot_reconstruction_errors_per_timestep(model, scaler_y, X_input, threshold_percentile=98):\n",
        "    model.eval()\n",
        "    with torch.no_grad():\n",
        "        x2 = model(X_input, X_input)  # [B, window, 1]\n",
        "\n",
        "        # Use only the last timestep of each reconstructed sequence\n",
        "        recon = x2[:, -1, 0].cpu().numpy()  # shape: [B]\n",
        "        true = X_input[:, -1, 0].cpu().numpy()  # shape: [B]\n",
        "\n",
        "        # Inverse transform back to original scale\n",
        "        recon_orig = scaler_y.inverse_transform(recon.reshape(-1, 1)).flatten()\n",
        "        true_orig = scaler_y.inverse_transform(true.reshape(-1, 1)).flatten()\n",
        "\n",
        "        # Compute per-timestep error\n",
        "        errors = np.abs(true_orig - recon_orig)\n",
        "\n",
        "        # Threshold for peak detection\n",
        "        threshold = np.percentile(errors, threshold_percentile)\n",
        "        peaks = [i for i, e in enumerate(errors) if e > threshold]\n",
        "\n",
        "        # Plot\n",
        "        plt.figure(figsize=(14, 6))\n",
        "        plt.plot(errors, label=\"Reconstruction Error (per timestamp)\", alpha=0.8)\n",
        "        plt.axhline(threshold, color=\"red\", linestyle=\"--\", label=f\"{threshold_percentile}th percentile\")\n",
        "        plt.scatter(peaks, [errors[i] for i in peaks], color='red', s=10, label=\"Detected Peaks\")\n",
        "        plt.title(\"TranAD-style Peak Detection (1 error per timestamp)\")\n",
        "        plt.xlabel(\"Timestamp Index\")\n",
        "        plt.ylabel(\"Reconstruction Error\")\n",
        "        plt.legend()\n",
        "        plt.grid(True)\n",
        "        plt.show()\n",
        "\n",
        "        return errors, peaks"
      ],
      "metadata": {
        "id": "3cNwlAYmDNuJ"
      },
      "execution_count": null,
      "outputs": []
    },
    {
      "cell_type": "code",
      "source": [],
      "metadata": {
        "id": "LlpszXXWJilU"
      },
      "execution_count": null,
      "outputs": []
    },
    {
      "cell_type": "markdown",
      "source": [
        "## To shorten Dataset Length"
      ],
      "metadata": {
        "id": "GIcXMJVMU2gd"
      }
    },
    {
      "cell_type": "code",
      "source": [
        "\n",
        "df = pd.read_csv(\"/content/dataset.csv\")\n",
        "\n",
        "# Take 20% of the data\n",
        "df_20 = df.sample(frac=0.2, random_state=42).reset_index(drop=True)\n",
        "\n",
        "# Save to new file\n",
        "df_20.to_csv(\"/content/dataset_20.csv\", index=False)\n",
        "\n",
        "print(\"✅ New file 'dataset_20.csv' created with 20% of the data.\")"
      ],
      "metadata": {
        "id": "o6eb3dR4NYLo",
        "colab": {
          "base_uri": "https://localhost:8080/"
        },
        "outputId": "246e55fd-ea75-444d-a996-eef443a3a344"
      },
      "execution_count": null,
      "outputs": [
        {
          "output_type": "stream",
          "name": "stdout",
          "text": [
            "✅ New file 'dataset_20.csv' created with 20% of the data.\n"
          ]
        }
      ]
    },
    {
      "cell_type": "markdown",
      "source": [
        "### Datasset Info"
      ],
      "metadata": {
        "id": "xFE1rwOf1fc_"
      }
    },
    {
      "cell_type": "code",
      "source": [
        "df_20.info()"
      ],
      "metadata": {
        "colab": {
          "base_uri": "https://localhost:8080/"
        },
        "id": "Sm5-iSDgyfzb",
        "outputId": "981a2ed7-ab6c-4a35-8946-d903cf54df58"
      },
      "execution_count": null,
      "outputs": [
        {
          "output_type": "stream",
          "name": "stdout",
          "text": [
            "<class 'pandas.core.frame.DataFrame'>\n",
            "RangeIndex: 8403 entries, 0 to 8402\n",
            "Data columns (total 92 columns):\n",
            " #   Column        Non-Null Count  Dtype  \n",
            "---  ------        --------------  -----  \n",
            " 0   CYCLE         8403 non-null   int64  \n",
            " 1   TORQUE|1      8403 non-null   float64\n",
            " 2   TORQUE|2      8403 non-null   float64\n",
            " 3   TORQUE|3      8403 non-null   float64\n",
            " 4   TORQUE|4      8403 non-null   float64\n",
            " 5   TORQUE|5      8403 non-null   float64\n",
            " 6   TORQUE|6      8403 non-null   float64\n",
            " 7   CTRL_DIFF2|1  8403 non-null   float64\n",
            " 8   CTRL_DIFF2|2  8403 non-null   float64\n",
            " 9   CTRL_DIFF2|3  8403 non-null   float64\n",
            " 10  CTRL_DIFF2|4  8403 non-null   float64\n",
            " 11  CTRL_DIFF2|5  8403 non-null   float64\n",
            " 12  CTRL_DIFF2|6  8403 non-null   float64\n",
            " 13  DES_POS|1     8403 non-null   float64\n",
            " 14  DES_POS|2     8403 non-null   float64\n",
            " 15  DES_POS|3     8403 non-null   float64\n",
            " 16  DES_POS|4     8403 non-null   float64\n",
            " 17  DES_POS|5     8403 non-null   float64\n",
            " 18  DES_POS|6     8403 non-null   float64\n",
            " 19  CURRENT|1     8403 non-null   float64\n",
            " 20  CURRENT|2     8403 non-null   float64\n",
            " 21  CURRENT|3     8403 non-null   float64\n",
            " 22  CURRENT|4     8403 non-null   float64\n",
            " 23  CURRENT|5     8403 non-null   float64\n",
            " 24  CURRENT|6     8403 non-null   float64\n",
            " 25  CTRL_DIFF|1   8403 non-null   float64\n",
            " 26  CTRL_DIFF|2   8403 non-null   float64\n",
            " 27  CTRL_DIFF|3   8403 non-null   float64\n",
            " 28  CTRL_DIFF|4   8403 non-null   float64\n",
            " 29  CTRL_DIFF|5   8403 non-null   float64\n",
            " 30  CTRL_DIFF|6   8403 non-null   float64\n",
            " 31  CTRL_POS|1    8403 non-null   float64\n",
            " 32  CTRL_POS|2    8403 non-null   float64\n",
            " 33  CTRL_POS|3    8403 non-null   float64\n",
            " 34  CTRL_POS|4    8403 non-null   float64\n",
            " 35  CTRL_POS|5    8403 non-null   float64\n",
            " 36  CTRL_POS|6    8403 non-null   float64\n",
            " 37  VEL_FFW|1     8403 non-null   float64\n",
            " 38  VEL_FFW|2     8403 non-null   float64\n",
            " 39  VEL_FFW|3     8403 non-null   float64\n",
            " 40  VEL_FFW|4     8403 non-null   float64\n",
            " 41  VEL_FFW|5     8403 non-null   float64\n",
            " 42  VEL_FFW|6     8403 non-null   float64\n",
            " 43  POWER|1       8403 non-null   float64\n",
            " 44  POWER|2       8403 non-null   float64\n",
            " 45  POWER|3       8403 non-null   float64\n",
            " 46  POWER|4       8403 non-null   float64\n",
            " 47  POWER|5       8403 non-null   float64\n",
            " 48  POWER|6       8403 non-null   float64\n",
            " 49  CONT_DEV|1    8403 non-null   float64\n",
            " 50  CONT_DEV|2    8403 non-null   float64\n",
            " 51  CONT_DEV|3    8403 non-null   float64\n",
            " 52  CONT_DEV|4    8403 non-null   float64\n",
            " 53  CONT_DEV|5    8403 non-null   float64\n",
            " 54  CONT_DEV|6    8403 non-null   float64\n",
            " 55  A_DBD|0       8403 non-null   float64\n",
            " 56  TORQUE_FFW|1  8403 non-null   float64\n",
            " 57  TORQUE_FFW|2  8403 non-null   float64\n",
            " 58  TORQUE_FFW|3  8403 non-null   float64\n",
            " 59  TORQUE_FFW|4  8403 non-null   float64\n",
            " 60  TORQUE_FFW|5  8403 non-null   float64\n",
            " 61  TORQUE_FFW|6  8403 non-null   float64\n",
            " 62  CMD_SPEED|1   8403 non-null   float64\n",
            " 63  CMD_SPEED|2   8403 non-null   float64\n",
            " 64  CMD_SPEED|3   8403 non-null   float64\n",
            " 65  CMD_SPEED|4   8403 non-null   float64\n",
            " 66  CMD_SPEED|5   8403 non-null   float64\n",
            " 67  CMD_SPEED|6   8403 non-null   float64\n",
            " 68  ENC1_POS|1    8403 non-null   float64\n",
            " 69  ENC1_POS|2    8403 non-null   float64\n",
            " 70  ENC1_POS|3    8403 non-null   float64\n",
            " 71  ENC1_POS|4    8403 non-null   float64\n",
            " 72  ENC1_POS|5    8403 non-null   float64\n",
            " 73  ENC1_POS|6    8403 non-null   float64\n",
            " 74  ENC2_POS|1    8403 non-null   float64\n",
            " 75  ENC2_POS|2    8403 non-null   float64\n",
            " 76  ENC2_POS|3    8403 non-null   float64\n",
            " 77  ENC2_POS|4    8403 non-null   float64\n",
            " 78  ENC2_POS|5    8403 non-null   float64\n",
            " 79  ENC2_POS|6    8403 non-null   float64\n",
            " 80  ENC_POS|1     8403 non-null   float64\n",
            " 81  ENC_POS|2     8403 non-null   float64\n",
            " 82  ENC_POS|3     8403 non-null   float64\n",
            " 83  ENC_POS|4     8403 non-null   float64\n",
            " 84  ENC_POS|5     8403 non-null   float64\n",
            " 85  ENC_POS|6     8403 non-null   float64\n",
            " 86  LOAD|1        8403 non-null   float64\n",
            " 87  LOAD|2        8403 non-null   float64\n",
            " 88  LOAD|3        8403 non-null   float64\n",
            " 89  LOAD|4        8403 non-null   float64\n",
            " 90  LOAD|5        8403 non-null   float64\n",
            " 91  LOAD|6        8403 non-null   float64\n",
            "dtypes: float64(91), int64(1)\n",
            "memory usage: 5.9 MB\n"
          ]
        }
      ]
    },
    {
      "cell_type": "code",
      "source": [
        "df.shape"
      ],
      "metadata": {
        "colab": {
          "base_uri": "https://localhost:8080/"
        },
        "id": "MmopeUBL1qzP",
        "outputId": "a8e84c42-daa3-408a-ee50-fc334562ff87"
      },
      "execution_count": null,
      "outputs": [
        {
          "output_type": "execute_result",
          "data": {
            "text/plain": [
              "(8403, 92)"
            ]
          },
          "metadata": {},
          "execution_count": 11
        }
      ]
    },
    {
      "cell_type": "markdown",
      "source": [
        "IMP Code snippets"
      ],
      "metadata": {
        "id": "0ZEZFInYDcut"
      }
    },
    {
      "cell_type": "code",
      "source": [
        "# 8. Plot Reconstruction Errors (per timestamp)\n",
        "def plot_reconstruction_errors_per_timestep(model, scaler_y, X_input, threshold_percentile=98):\n",
        "    model.eval()\n",
        "    with torch.no_grad():\n",
        "        x2 = model(X_input, X_input)\n",
        "        recon = x2.cpu().numpy().reshape(-1, 1)\n",
        "        true = X_input.cpu().numpy().reshape(-1, 1)\n",
        "        recon_orig = scaler_y.inverse_transform(recon).flatten()\n",
        "        true_orig = scaler_y.inverse_transform(true).flatten()\n",
        "        errors = np.abs(true_orig - recon_orig)\n",
        "\n",
        "        threshold = np.percentile(errors, threshold_percentile)\n",
        "        peaks = [i for i, e in enumerate(errors) if e > threshold]\n",
        "\n",
        "        # Plot\n",
        "        plt.figure(figsize=(12, 6))\n",
        "        plt.plot(errors, label=\"Reconstruction Error (per timestamp)\")\n",
        "        plt.axhline(threshold, color=\"red\", linestyle=\"--\", label=f\"{threshold_percentile}th percentile\")\n",
        "        plt.scatter(peaks, [errors[i] for i in peaks], color='red', s=10, label=\"Detected Peaks\")\n",
        "        plt.title(\"TranAD-style Peak Detection (Transformer)\")\n",
        "        plt.xlabel(\"Timestamp Index\")\n",
        "        plt.ylabel(\"Reconstruction Error\")\n",
        "        plt.legend()\n",
        "        plt.grid(True)\n",
        "        plt.show()\n",
        "\n",
        "        return errors, peaks\n",
        "\n",
        "# 9. Run and Plot\n",
        "errors, peaks = plot_reconstruction_errors_per_timestep(model, scaler_y, X_test_tensor)\n",
        "print(f\"\\n✅ DONE - {len(peaks)} Peaks Detected\")"
      ],
      "metadata": {
        "id": "TtMo4moi2yaL"
      },
      "execution_count": null,
      "outputs": []
    }
  ]
}